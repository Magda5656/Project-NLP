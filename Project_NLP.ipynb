{
  "nbformat": 4,
  "nbformat_minor": 0,
  "metadata": {
    "kernelspec": {
      "display_name": "Python 3",
      "language": "python",
      "name": "python3"
    },
    "language_info": {
      "codemirror_mode": {
        "name": "ipython",
        "version": 3
      },
      "file_extension": ".py",
      "mimetype": "text/x-python",
      "name": "python",
      "nbconvert_exporter": "python",
      "pygments_lexer": "ipython3",
      "version": "3.6.8"
    },
    "colab": {
      "name": "Projekt NLP.ipynb",
      "provenance": []
    }
  },
  "cells": [
    {
      "cell_type": "markdown",
      "metadata": {
        "id": "p1X7vNMVhmpQ",
        "colab_type": "text"
      },
      "source": [
        "# Comparison of different word representation method on sentiment analysis example"
      ]
    },
    {
      "cell_type": "markdown",
      "metadata": {
        "id": "hKhGZdKfhmpU",
        "colab_type": "text"
      },
      "source": [
        "### Project purpose"
      ]
    },
    {
      "cell_type": "markdown",
      "metadata": {
        "collapsed": true,
        "id": "mRb3ERJIhmpd",
        "colab_type": "text"
      },
      "source": [
        "#### The project purpose is testing three, different approaches to representation of words:\n",
        "   #### a) the usage of Embedding layer\n",
        "   #### b) the usage of Word2vec layer which will be trained on our data\n",
        "   #### c) the usage of Word2vec layer which was trained by Google on large amount of data\n",
        "\n",
        "#### Project dataset contains only thousand product reviews and classification whether review is positive or negative. For modeling stuff, LSTM and SimpleRNA models were used."
      ]
    },
    {
      "cell_type": "markdown",
      "metadata": {
        "id": "G_q2SiqBhmpj",
        "colab_type": "text"
      },
      "source": [
        "Libraries"
      ]
    },
    {
      "cell_type": "code",
      "metadata": {
        "id": "hMRColGnhmpo",
        "colab_type": "code",
        "colab": {},
        "outputId": "960d529d-c8c3-4e5b-a66f-3ec404b1f899"
      },
      "source": [
        "from nltk.corpus import stopwords\n",
        "import nltk\n",
        "import string\n",
        "import re\n",
        "from collections import Counter\n",
        "from nltk.tokenize import RegexpTokenizer\n",
        "import pandas as pd\n",
        "from pandas import read_excel\n",
        "from wordcloud import WordCloud, STOPWORDS, ImageColorGenerator\n",
        "from keras.preprocessing.text import Tokenizer, text_to_word_sequence\n",
        "from keras.preprocessing.sequence import pad_sequences\n",
        "from sklearn.model_selection import train_test_split\n",
        "import numpy as np\n",
        "import keras \n",
        "from keras.layers import Embedding, LSTM, Dense, Bidirectional, SimpleRNN\n",
        "from keras.models import Sequential\n",
        "from keras.callbacks import EarlyStopping, ModelCheckpoint\n",
        "from gensim.models import Word2Vec\n",
        "from string import punctuation\n",
        "from numpy import array"
      ],
      "execution_count": null,
      "outputs": [
        {
          "output_type": "stream",
          "text": [
            "/home/kodolamacz/anaconda3/lib/python3.6/site-packages/h5py/__init__.py:34: FutureWarning: Conversion of the second argument of issubdtype from `float` to `np.floating` is deprecated. In future, it will be treated as `np.float64 == np.dtype(float).type`.\n",
            "  from ._conv import register_converters as _register_converters\n",
            "Using TensorFlow backend.\n"
          ],
          "name": "stderr"
        }
      ]
    },
    {
      "cell_type": "markdown",
      "metadata": {
        "id": "Bm1jywYShmqQ",
        "colab_type": "text"
      },
      "source": [
        "Import data from excel file"
      ]
    },
    {
      "cell_type": "code",
      "metadata": {
        "id": "TAs29_LqhmqW",
        "colab_type": "code",
        "colab": {},
        "outputId": "39383b82-8e18-4477-edac-5b37fdb321f8"
      },
      "source": [
        "df = read_excel(\"/home/kodolamacz/Pulpit/NLP/NLP.xlsx\")\n",
        "df.head()"
      ],
      "execution_count": null,
      "outputs": [
        {
          "output_type": "execute_result",
          "data": {
            "text/html": [
              "<div>\n",
              "<style>\n",
              "    .dataframe thead tr:only-child th {\n",
              "        text-align: right;\n",
              "    }\n",
              "\n",
              "    .dataframe thead th {\n",
              "        text-align: left;\n",
              "    }\n",
              "\n",
              "    .dataframe tbody tr th {\n",
              "        vertical-align: top;\n",
              "    }\n",
              "</style>\n",
              "<table border=\"1\" class=\"dataframe\">\n",
              "  <thead>\n",
              "    <tr style=\"text-align: right;\">\n",
              "      <th></th>\n",
              "      <th>Text</th>\n",
              "      <th>Score</th>\n",
              "    </tr>\n",
              "  </thead>\n",
              "  <tbody>\n",
              "    <tr>\n",
              "      <th>0</th>\n",
              "      <td>So there is no way for me to plug it in here i...</td>\n",
              "      <td>0</td>\n",
              "    </tr>\n",
              "    <tr>\n",
              "      <th>1</th>\n",
              "      <td>Good case.  Excellent value.</td>\n",
              "      <td>1</td>\n",
              "    </tr>\n",
              "    <tr>\n",
              "      <th>2</th>\n",
              "      <td>Great for the jawbone.</td>\n",
              "      <td>1</td>\n",
              "    </tr>\n",
              "    <tr>\n",
              "      <th>3</th>\n",
              "      <td>Tied to charger for conversations lasting more...</td>\n",
              "      <td>0</td>\n",
              "    </tr>\n",
              "    <tr>\n",
              "      <th>4</th>\n",
              "      <td>The mic is great.</td>\n",
              "      <td>1</td>\n",
              "    </tr>\n",
              "  </tbody>\n",
              "</table>\n",
              "</div>"
            ],
            "text/plain": [
              "                                                Text  Score\n",
              "0  So there is no way for me to plug it in here i...      0\n",
              "1                       Good case.  Excellent value.      1\n",
              "2                             Great for the jawbone.      1\n",
              "3  Tied to charger for conversations lasting more...      0\n",
              "4                                  The mic is great.      1"
            ]
          },
          "metadata": {
            "tags": []
          },
          "execution_count": 2
        }
      ]
    },
    {
      "cell_type": "markdown",
      "metadata": {
        "id": "PKXsS6suhmrM",
        "colab_type": "text"
      },
      "source": [
        "Dataset contains two columns. \"Text\" column contains product reviews. \"Score\" column contains classification."
      ]
    },
    {
      "cell_type": "markdown",
      "metadata": {
        "id": "KQgNDkn6hmrS",
        "colab_type": "text"
      },
      "source": [
        "# Data explaration "
      ]
    },
    {
      "cell_type": "code",
      "metadata": {
        "id": "wqnGb5-DhmrW",
        "colab_type": "code",
        "colab": {},
        "outputId": "f669b6e5-baa1-455d-895c-34547eb313a8"
      },
      "source": [
        "import matplotlib.pyplot as plt\n",
        "df['Score'].value_counts().plot.pie(autopct='%1.1f%%',figsize=(7, 7),labels=None, legend=True)\n",
        "plt.title('% Negative/Positive reviews')\n",
        "plt.show()"
      ],
      "execution_count": null,
      "outputs": [
        {
          "output_type": "display_data",
          "data": {
            "image/png": "[encoded data removed]",
            "text/plain": [
              "<matplotlib.figure.Figure at 0x7fe00d0c9f60>"
            ]
          },
          "metadata": {
            "tags": []
          }
        }
      ]
    },
    {
      "cell_type": "markdown",
      "metadata": {
        "id": "hQrD2jQehmsL",
        "colab_type": "text"
      },
      "source": [
        "The dataset is balanced, contains 50% positive and negative reviews"
      ]
    },
    {
      "cell_type": "code",
      "metadata": {
        "id": "wxGGDwFGhmsR",
        "colab_type": "code",
        "colab": {},
        "outputId": "944ed5f8-7671-45f5-9fa1-237d28bdc99e"
      },
      "source": [
        "df.count()"
      ],
      "execution_count": null,
      "outputs": [
        {
          "output_type": "execute_result",
          "data": {
            "text/plain": [
              "Text     1000\n",
              "Score    1000\n",
              "dtype: int64"
            ]
          },
          "metadata": {
            "tags": []
          },
          "execution_count": 25
        }
      ]
    },
    {
      "cell_type": "markdown",
      "metadata": {
        "id": "Z65vZKaqhmsv",
        "colab_type": "text"
      },
      "source": [
        "The dataset has 1000 observations without missing values."
      ]
    },
    {
      "cell_type": "code",
      "metadata": {
        "id": "Hmq_q3r-hmtB",
        "colab_type": "code",
        "colab": {}
      },
      "source": [
        "positive = df.loc[df['Score']==1]\n",
        "negative = df.loc[df['Score']==0]"
      ],
      "execution_count": null,
      "outputs": []
    },
    {
      "cell_type": "markdown",
      "metadata": {
        "id": "9_Dn_ojphmtg",
        "colab_type": "text"
      },
      "source": [
        "### Word cloud for positive reviews"
      ]
    },
    {
      "cell_type": "code",
      "metadata": {
        "id": "tNxHV3YZhmti",
        "colab_type": "code",
        "colab": {},
        "outputId": "a6cfb8ff-a1a2-44ff-84aa-4022e40b5654"
      },
      "source": [
        "wordcloud_pos = WordCloud(\n",
        "                          background_color='white',\n",
        "                          stopwords=stopwords,\n",
        "                          max_words=200,\n",
        "                          max_font_size=40,  \n",
        "                          scale=10,\n",
        "                          random_state=1\n",
        "                         ).generate(str(positive['Text']))\n",
        "\n",
        "plt.imshow(wordcloud_pos)\n",
        "plt.axis('off')\n",
        "plt.show()"
      ],
      "execution_count": null,
      "outputs": [
        {
          "output_type": "display_data",
          "data": {
            "image/png": "[encoded data removed]",
            "text/plain": [
              "<matplotlib.figure.Figure at 0x7fe00d48a5f8>"
            ]
          },
          "metadata": {
            "tags": []
          }
        }
      ]
    },
    {
      "cell_type": "markdown",
      "metadata": {
        "id": "hIGNfWIfhmt9",
        "colab_type": "text"
      },
      "source": [
        "### Word cloud for negative reviews"
      ]
    },
    {
      "cell_type": "code",
      "metadata": {
        "id": "AC2gPE1ThmuA",
        "colab_type": "code",
        "colab": {},
        "outputId": "443357ba-7327-4786-ae51-8aa44837193d"
      },
      "source": [
        "wordcloud_neg = WordCloud(\n",
        "                          background_color='white',\n",
        "                          stopwords=stopwords,\n",
        "                          max_words=200,\n",
        "                          max_font_size=40,  \n",
        "                          scale=10,\n",
        "                          random_state=1\n",
        "                         ).generate(str(negative['Text']))\n",
        "\n",
        "plt.imshow(wordcloud_neg)\n",
        "plt.axis('off')\n",
        "plt.show()"
      ],
      "execution_count": null,
      "outputs": [
        {
          "output_type": "display_data",
          "data": {
            "image/png": "[encoded data removed]",
            "text/plain": [
              "<matplotlib.figure.Figure at 0x7fe00d00a5c0>"
            ]
          },
          "metadata": {
            "tags": []
          }
        }
      ]
    },
    {
      "cell_type": "markdown",
      "metadata": {
        "id": "xYUhvcSVhmuY",
        "colab_type": "text"
      },
      "source": [
        "# Data preparation"
      ]
    },
    {
      "cell_type": "code",
      "metadata": {
        "id": "-Mm1qhJvhmup",
        "colab_type": "code",
        "colab": {},
        "outputId": "ffa423db-8b0f-40e5-9c01-eeeb69f40e05"
      },
      "source": [
        "tokenizer = Tokenizer(split=' ') \n",
        "tokenizer.fit_on_texts(df['Text'])\n",
        "X = tokenizer.texts_to_sequences(df['Text'])\n",
        "X = pad_sequences(X) \n",
        "Y = np.array(df['Score']).reshape((X.shape[0],1)) \n",
        "x_train, x_test, y_train, y_test = train_test_split(X,Y,train_size=0.9) \n",
        "vocab_size = len(tokenizer.word_index)+1 "
      ],
      "execution_count": null,
      "outputs": [
        {
          "output_type": "stream",
          "text": [
            "/home/kodolamacz/anaconda3/lib/python3.6/site-packages/sklearn/model_selection/_split.py:2179: FutureWarning: From version 0.21, test_size will always complement train_size unless both are specified.\n",
            "  FutureWarning)\n"
          ],
          "name": "stderr"
        }
      ]
    },
    {
      "cell_type": "markdown",
      "metadata": {
        "id": "1zw8EaHahmu7",
        "colab_type": "text"
      },
      "source": [
        "# Model building"
      ]
    },
    {
      "cell_type": "markdown",
      "metadata": {
        "id": "AofjHTeohmvB",
        "colab_type": "text"
      },
      "source": [
        "## 1. LSTM with embedding layer"
      ]
    },
    {
      "cell_type": "code",
      "metadata": {
        "id": "z1XqrEBbhmvE",
        "colab_type": "code",
        "colab": {}
      },
      "source": [
        "rows = []"
      ],
      "execution_count": null,
      "outputs": []
    },
    {
      "cell_type": "code",
      "metadata": {
        "id": "3kZ1y9gmhmvf",
        "colab_type": "code",
        "colab": {}
      },
      "source": [
        "def LSTM_emb(emb,neurons):\n",
        "    model = Sequential()\n",
        "    model.add(Embedding(vocab_size,emb,input_length=X.shape[1]))\n",
        "    model.add(Bidirectional(LSTM(neurons)))\n",
        "    model.add(Dense(1,activation=\"sigmoid\")) # to jest nasz klasyfikator \n",
        "\n",
        "    model.compile(loss=\"binary_crossentropy\",\n",
        "                 optimizer=\"adam\",\n",
        "                 metrics=[\"accuracy\"])\n",
        "    early_stopping = EarlyStopping(patience=2,monitor=\"val_acc\", min_delta=1)\n",
        "\n",
        "    history = model.fit(x_train,y_train, epochs=10, verbose=False, validation_split=0.2, \n",
        "              batch_size = 24, \n",
        "              callbacks=[early_stopping])\n",
        "    a,b = model.evaluate(x_test,y_test, verbose=False)[0], model.evaluate(x_test,y_test, verbose=False)[1]\n",
        "    c,d = model.evaluate(x_train,y_train, verbose=False)[0], model.evaluate(x_train,y_train, verbose=False)[1]\n",
        "    row = [a,c,b,d] \n",
        "    rows.append(row) "
      ],
      "execution_count": null,
      "outputs": []
    },
    {
      "cell_type": "markdown",
      "metadata": {
        "id": "AuKJmvq5hmvz",
        "colab_type": "text"
      },
      "source": [
        "Test LSTM models with different number of neurons and embeddings."
      ]
    },
    {
      "cell_type": "code",
      "metadata": {
        "id": "gqkMpnL9hmv6",
        "colab_type": "code",
        "colab": {}
      },
      "source": [
        "emb=[50,100,150,200,250,300]\n",
        "neurons =[10,20,50]\n",
        "for i in emb:\n",
        "    for n in neurons:\n",
        "     LSTM_emb(i,n)"
      ],
      "execution_count": null,
      "outputs": []
    },
    {
      "cell_type": "code",
      "metadata": {
        "id": "fPzarcJChmwf",
        "colab_type": "code",
        "colab": {},
        "outputId": "78c1e067-e5d7-491d-c5ed-d707925708d6"
      },
      "source": [
        "def LSTM_emb_df(r)\n",
        "    quality = pd.DataFrame(rows)\n",
        "    quality.columns = ['Loss Test', 'Loss Train','Accuracy Test','Accuracy Train']\n",
        "    quality['Model'] = ['LSTM(10)_emb_50','LSTM(10)_emb_100','LSTM(10)_emb_150','LSTM(10)_emb_200', 'LSTM(10)_emb_250','LSTM(10)_emb_300',\n",
        "                    'LSTM(20)_emb_50','LSTM(20)_emb_100','LSTM(20)_emb_150','LSTM(20)_emb_200', 'LSTM(20)_emb_250','LSTM(20)_emb_300',\n",
        "                    'LSTM(50)_emb_50','LSTM(50)_emb_100','LSTM(50)_emb_150','LSTM(50)_emb_200', 'LSTM(50)_emb_250','LSTM(50)_emb_300'\n",
        "                   ]\n",
        "    quality = quality.sort_values(by=['Accuracy Test'], ascending=False)\n"
      ],
      "execution_count": null,
      "outputs": [
        {
          "output_type": "execute_result",
          "data": {
            "text/html": [
              "<div>\n",
              "<style>\n",
              "    .dataframe thead tr:only-child th {\n",
              "        text-align: right;\n",
              "    }\n",
              "\n",
              "    .dataframe thead th {\n",
              "        text-align: left;\n",
              "    }\n",
              "\n",
              "    .dataframe tbody tr th {\n",
              "        vertical-align: top;\n",
              "    }\n",
              "</style>\n",
              "<table border=\"1\" class=\"dataframe\">\n",
              "  <thead>\n",
              "    <tr style=\"text-align: right;\">\n",
              "      <th></th>\n",
              "      <th>Loss Test</th>\n",
              "      <th>Loss Train</th>\n",
              "      <th>Accuracy Test</th>\n",
              "      <th>Accuracy Train</th>\n",
              "      <th>Model</th>\n",
              "    </tr>\n",
              "  </thead>\n",
              "  <tbody>\n",
              "    <tr>\n",
              "      <th>17</th>\n",
              "      <td>0.464585</td>\n",
              "      <td>0.177318</td>\n",
              "      <td>0.77</td>\n",
              "      <td>0.946667</td>\n",
              "      <td>LSTM(50)_emb_300</td>\n",
              "    </tr>\n",
              "    <tr>\n",
              "      <th>12</th>\n",
              "      <td>0.512932</td>\n",
              "      <td>0.340830</td>\n",
              "      <td>0.75</td>\n",
              "      <td>0.932222</td>\n",
              "      <td>LSTM(50)_emb_50</td>\n",
              "    </tr>\n",
              "    <tr>\n",
              "      <th>1</th>\n",
              "      <td>0.584442</td>\n",
              "      <td>0.480902</td>\n",
              "      <td>0.74</td>\n",
              "      <td>0.901111</td>\n",
              "      <td>LSTM(10)_emb_100</td>\n",
              "    </tr>\n",
              "    <tr>\n",
              "      <th>4</th>\n",
              "      <td>0.539261</td>\n",
              "      <td>0.363093</td>\n",
              "      <td>0.74</td>\n",
              "      <td>0.911111</td>\n",
              "      <td>LSTM(10)_emb_250</td>\n",
              "    </tr>\n",
              "    <tr>\n",
              "      <th>14</th>\n",
              "      <td>0.461675</td>\n",
              "      <td>0.203461</td>\n",
              "      <td>0.74</td>\n",
              "      <td>0.935556</td>\n",
              "      <td>LSTM(50)_emb_150</td>\n",
              "    </tr>\n",
              "    <tr>\n",
              "      <th>8</th>\n",
              "      <td>0.587490</td>\n",
              "      <td>0.223604</td>\n",
              "      <td>0.74</td>\n",
              "      <td>0.934444</td>\n",
              "      <td>LSTM(20)_emb_150</td>\n",
              "    </tr>\n",
              "    <tr>\n",
              "      <th>15</th>\n",
              "      <td>0.556865</td>\n",
              "      <td>0.421177</td>\n",
              "      <td>0.73</td>\n",
              "      <td>0.923333</td>\n",
              "      <td>LSTM(50)_emb_200</td>\n",
              "    </tr>\n",
              "    <tr>\n",
              "      <th>3</th>\n",
              "      <td>0.569678</td>\n",
              "      <td>0.469964</td>\n",
              "      <td>0.73</td>\n",
              "      <td>0.916667</td>\n",
              "      <td>LSTM(10)_emb_200</td>\n",
              "    </tr>\n",
              "    <tr>\n",
              "      <th>5</th>\n",
              "      <td>0.576674</td>\n",
              "      <td>0.259655</td>\n",
              "      <td>0.73</td>\n",
              "      <td>0.930000</td>\n",
              "      <td>LSTM(10)_emb_300</td>\n",
              "    </tr>\n",
              "    <tr>\n",
              "      <th>0</th>\n",
              "      <td>0.595899</td>\n",
              "      <td>0.500879</td>\n",
              "      <td>0.72</td>\n",
              "      <td>0.893333</td>\n",
              "      <td>LSTM(10)_emb_50</td>\n",
              "    </tr>\n",
              "    <tr>\n",
              "      <th>2</th>\n",
              "      <td>0.613612</td>\n",
              "      <td>0.358753</td>\n",
              "      <td>0.71</td>\n",
              "      <td>0.863333</td>\n",
              "      <td>LSTM(10)_emb_150</td>\n",
              "    </tr>\n",
              "    <tr>\n",
              "      <th>7</th>\n",
              "      <td>0.537124</td>\n",
              "      <td>0.326944</td>\n",
              "      <td>0.70</td>\n",
              "      <td>0.912222</td>\n",
              "      <td>LSTM(20)_emb_100</td>\n",
              "    </tr>\n",
              "    <tr>\n",
              "      <th>13</th>\n",
              "      <td>0.505275</td>\n",
              "      <td>0.282917</td>\n",
              "      <td>0.70</td>\n",
              "      <td>0.912222</td>\n",
              "      <td>LSTM(50)_emb_100</td>\n",
              "    </tr>\n",
              "    <tr>\n",
              "      <th>10</th>\n",
              "      <td>0.542363</td>\n",
              "      <td>0.300405</td>\n",
              "      <td>0.69</td>\n",
              "      <td>0.904444</td>\n",
              "      <td>LSTM(20)_emb_250</td>\n",
              "    </tr>\n",
              "    <tr>\n",
              "      <th>16</th>\n",
              "      <td>0.583066</td>\n",
              "      <td>0.268227</td>\n",
              "      <td>0.69</td>\n",
              "      <td>0.924444</td>\n",
              "      <td>LSTM(50)_emb_250</td>\n",
              "    </tr>\n",
              "    <tr>\n",
              "      <th>9</th>\n",
              "      <td>0.568356</td>\n",
              "      <td>0.382596</td>\n",
              "      <td>0.68</td>\n",
              "      <td>0.892222</td>\n",
              "      <td>LSTM(20)_emb_200</td>\n",
              "    </tr>\n",
              "    <tr>\n",
              "      <th>11</th>\n",
              "      <td>0.577743</td>\n",
              "      <td>0.196667</td>\n",
              "      <td>0.67</td>\n",
              "      <td>0.950000</td>\n",
              "      <td>LSTM(20)_emb_300</td>\n",
              "    </tr>\n",
              "    <tr>\n",
              "      <th>6</th>\n",
              "      <td>0.579460</td>\n",
              "      <td>0.416827</td>\n",
              "      <td>0.67</td>\n",
              "      <td>0.883333</td>\n",
              "      <td>LSTM(20)_emb_50</td>\n",
              "    </tr>\n",
              "  </tbody>\n",
              "</table>\n",
              "</div>"
            ],
            "text/plain": [
              "    Loss Test  Loss Train  Accuracy Test  Accuracy Train             Model\n",
              "17   0.464585    0.177318           0.77        0.946667  LSTM(50)_emb_300\n",
              "12   0.512932    0.340830           0.75        0.932222   LSTM(50)_emb_50\n",
              "1    0.584442    0.480902           0.74        0.901111  LSTM(10)_emb_100\n",
              "4    0.539261    0.363093           0.74        0.911111  LSTM(10)_emb_250\n",
              "14   0.461675    0.203461           0.74        0.935556  LSTM(50)_emb_150\n",
              "8    0.587490    0.223604           0.74        0.934444  LSTM(20)_emb_150\n",
              "15   0.556865    0.421177           0.73        0.923333  LSTM(50)_emb_200\n",
              "3    0.569678    0.469964           0.73        0.916667  LSTM(10)_emb_200\n",
              "5    0.576674    0.259655           0.73        0.930000  LSTM(10)_emb_300\n",
              "0    0.595899    0.500879           0.72        0.893333   LSTM(10)_emb_50\n",
              "2    0.613612    0.358753           0.71        0.863333  LSTM(10)_emb_150\n",
              "7    0.537124    0.326944           0.70        0.912222  LSTM(20)_emb_100\n",
              "13   0.505275    0.282917           0.70        0.912222  LSTM(50)_emb_100\n",
              "10   0.542363    0.300405           0.69        0.904444  LSTM(20)_emb_250\n",
              "16   0.583066    0.268227           0.69        0.924444  LSTM(50)_emb_250\n",
              "9    0.568356    0.382596           0.68        0.892222  LSTM(20)_emb_200\n",
              "11   0.577743    0.196667           0.67        0.950000  LSTM(20)_emb_300\n",
              "6    0.579460    0.416827           0.67        0.883333   LSTM(20)_emb_50"
            ]
          },
          "metadata": {
            "tags": []
          },
          "execution_count": 7
        }
      ]
    },
    {
      "cell_type": "code",
      "metadata": {
        "id": "85EBQ5A2hmwv",
        "colab_type": "code",
        "colab": {}
      },
      "source": [
        "def highlight_max(data, color='yellow'):\n",
        "    '''\n",
        "    highlight the maximum in a Series or DataFrame\n",
        "    '''\n",
        "    attr = 'background-color: {}'.format(color)\n",
        "    if data.ndim == 1:  # Series from .apply(axis=0) or axis=1\n",
        "        is_max = data == data.max()\n",
        "        return [attr if v else '' for v in is_max]\n",
        "    else:  # from .apply(axis=None)\n",
        "        is_max = data == data.max().max()\n",
        "        return pd.DataFrame(np.where(is_max, attr, ''),\n",
        "                            index=data.index, columns=data.columns)"
      ],
      "execution_count": null,
      "outputs": []
    },
    {
      "cell_type": "code",
      "metadata": {
        "id": "Fo5Gbzkyhmw7",
        "colab_type": "code",
        "colab": {}
      },
      "source": [
        "def highlight_min(data, color='yellow'):\n",
        "    '''\n",
        "    highlight the minimum in a Series or DataFrame\n",
        "    '''\n",
        "    attr = 'background-color: {}'.format(color)\n",
        "    if data.ndim == 1:  # Series from .apply(axis=0) or axis=1\n",
        "        is_min = data == data.min()\n",
        "        return [attr if v else '' for v in is_min]\n",
        "    else:  # from .apply(axis=None)\n",
        "        is_min = data == data.min().min()\n",
        "        return pd.DataFrame(np.where(is_min, attr, ''),\n",
        "                            index=data.index, columns=data.columns)"
      ],
      "execution_count": null,
      "outputs": []
    },
    {
      "cell_type": "code",
      "metadata": {
        "id": "CMOTF9_ChmxH",
        "colab_type": "code",
        "colab": {}
      },
      "source": [
        "color_table = quality.style.\\\n",
        "    apply(highlight_max, color = 'lightgreen', subset=['Accuracy Test']).\\\n",
        "    apply(highlight_min, color = 'yellow', subset=['Loss Test'])"
      ],
      "execution_count": null,
      "outputs": []
    },
    {
      "cell_type": "code",
      "metadata": {
        "id": "MQruIC1fhmxV",
        "colab_type": "code",
        "colab": {},
        "outputId": "c319602d-03f6-49f5-cf9d-aeb87792c184"
      },
      "source": [
        "color_table"
      ],
      "execution_count": null,
      "outputs": [
        {
          "output_type": "execute_result",
          "data": {
            "text/html": [
              "<style  type=\"text/css\" >\n",
              "    #T_8a315476_53ef_11e9_b3cf_537c5e96e362row0_col2 {\n",
              "            background-color:  lightgreen;\n",
              "        }    #T_8a315476_53ef_11e9_b3cf_537c5e96e362row4_col0 {\n",
              "            background-color:  yellow;\n",
              "        }</style>  \n",
              "<table id=\"T_8a315476_53ef_11e9_b3cf_537c5e96e362\" > \n",
              "<thead>    <tr> \n",
              "        <th class=\"blank level0\" ></th> \n",
              "        <th class=\"col_heading level0 col0\" >Loss Test</th> \n",
              "        <th class=\"col_heading level0 col1\" >Loss Train</th> \n",
              "        <th class=\"col_heading level0 col2\" >Accuracy Test</th> \n",
              "        <th class=\"col_heading level0 col3\" >Accuracy Train</th> \n",
              "        <th class=\"col_heading level0 col4\" >Model</th> \n",
              "    </tr></thead> \n",
              "<tbody>    <tr> \n",
              "        <th id=\"T_8a315476_53ef_11e9_b3cf_537c5e96e362level0_row0\" class=\"row_heading level0 row0\" >17</th> \n",
              "        <td id=\"T_8a315476_53ef_11e9_b3cf_537c5e96e362row0_col0\" class=\"data row0 col0\" >0.464585</td> \n",
              "        <td id=\"T_8a315476_53ef_11e9_b3cf_537c5e96e362row0_col1\" class=\"data row0 col1\" >0.177318</td> \n",
              "        <td id=\"T_8a315476_53ef_11e9_b3cf_537c5e96e362row0_col2\" class=\"data row0 col2\" >0.77</td> \n",
              "        <td id=\"T_8a315476_53ef_11e9_b3cf_537c5e96e362row0_col3\" class=\"data row0 col3\" >0.946667</td> \n",
              "        <td id=\"T_8a315476_53ef_11e9_b3cf_537c5e96e362row0_col4\" class=\"data row0 col4\" >LSTM(50)_emb_300</td> \n",
              "    </tr>    <tr> \n",
              "        <th id=\"T_8a315476_53ef_11e9_b3cf_537c5e96e362level0_row1\" class=\"row_heading level0 row1\" >12</th> \n",
              "        <td id=\"T_8a315476_53ef_11e9_b3cf_537c5e96e362row1_col0\" class=\"data row1 col0\" >0.512932</td> \n",
              "        <td id=\"T_8a315476_53ef_11e9_b3cf_537c5e96e362row1_col1\" class=\"data row1 col1\" >0.34083</td> \n",
              "        <td id=\"T_8a315476_53ef_11e9_b3cf_537c5e96e362row1_col2\" class=\"data row1 col2\" >0.75</td> \n",
              "        <td id=\"T_8a315476_53ef_11e9_b3cf_537c5e96e362row1_col3\" class=\"data row1 col3\" >0.932222</td> \n",
              "        <td id=\"T_8a315476_53ef_11e9_b3cf_537c5e96e362row1_col4\" class=\"data row1 col4\" >LSTM(50)_emb_50</td> \n",
              "    </tr>    <tr> \n",
              "        <th id=\"T_8a315476_53ef_11e9_b3cf_537c5e96e362level0_row2\" class=\"row_heading level0 row2\" >1</th> \n",
              "        <td id=\"T_8a315476_53ef_11e9_b3cf_537c5e96e362row2_col0\" class=\"data row2 col0\" >0.584442</td> \n",
              "        <td id=\"T_8a315476_53ef_11e9_b3cf_537c5e96e362row2_col1\" class=\"data row2 col1\" >0.480902</td> \n",
              "        <td id=\"T_8a315476_53ef_11e9_b3cf_537c5e96e362row2_col2\" class=\"data row2 col2\" >0.74</td> \n",
              "        <td id=\"T_8a315476_53ef_11e9_b3cf_537c5e96e362row2_col3\" class=\"data row2 col3\" >0.901111</td> \n",
              "        <td id=\"T_8a315476_53ef_11e9_b3cf_537c5e96e362row2_col4\" class=\"data row2 col4\" >LSTM(10)_emb_100</td> \n",
              "    </tr>    <tr> \n",
              "        <th id=\"T_8a315476_53ef_11e9_b3cf_537c5e96e362level0_row3\" class=\"row_heading level0 row3\" >4</th> \n",
              "        <td id=\"T_8a315476_53ef_11e9_b3cf_537c5e96e362row3_col0\" class=\"data row3 col0\" >0.539261</td> \n",
              "        <td id=\"T_8a315476_53ef_11e9_b3cf_537c5e96e362row3_col1\" class=\"data row3 col1\" >0.363093</td> \n",
              "        <td id=\"T_8a315476_53ef_11e9_b3cf_537c5e96e362row3_col2\" class=\"data row3 col2\" >0.74</td> \n",
              "        <td id=\"T_8a315476_53ef_11e9_b3cf_537c5e96e362row3_col3\" class=\"data row3 col3\" >0.911111</td> \n",
              "        <td id=\"T_8a315476_53ef_11e9_b3cf_537c5e96e362row3_col4\" class=\"data row3 col4\" >LSTM(10)_emb_250</td> \n",
              "    </tr>    <tr> \n",
              "        <th id=\"T_8a315476_53ef_11e9_b3cf_537c5e96e362level0_row4\" class=\"row_heading level0 row4\" >14</th> \n",
              "        <td id=\"T_8a315476_53ef_11e9_b3cf_537c5e96e362row4_col0\" class=\"data row4 col0\" >0.461675</td> \n",
              "        <td id=\"T_8a315476_53ef_11e9_b3cf_537c5e96e362row4_col1\" class=\"data row4 col1\" >0.203461</td> \n",
              "        <td id=\"T_8a315476_53ef_11e9_b3cf_537c5e96e362row4_col2\" class=\"data row4 col2\" >0.74</td> \n",
              "        <td id=\"T_8a315476_53ef_11e9_b3cf_537c5e96e362row4_col3\" class=\"data row4 col3\" >0.935556</td> \n",
              "        <td id=\"T_8a315476_53ef_11e9_b3cf_537c5e96e362row4_col4\" class=\"data row4 col4\" >LSTM(50)_emb_150</td> \n",
              "    </tr>    <tr> \n",
              "        <th id=\"T_8a315476_53ef_11e9_b3cf_537c5e96e362level0_row5\" class=\"row_heading level0 row5\" >8</th> \n",
              "        <td id=\"T_8a315476_53ef_11e9_b3cf_537c5e96e362row5_col0\" class=\"data row5 col0\" >0.58749</td> \n",
              "        <td id=\"T_8a315476_53ef_11e9_b3cf_537c5e96e362row5_col1\" class=\"data row5 col1\" >0.223604</td> \n",
              "        <td id=\"T_8a315476_53ef_11e9_b3cf_537c5e96e362row5_col2\" class=\"data row5 col2\" >0.74</td> \n",
              "        <td id=\"T_8a315476_53ef_11e9_b3cf_537c5e96e362row5_col3\" class=\"data row5 col3\" >0.934444</td> \n",
              "        <td id=\"T_8a315476_53ef_11e9_b3cf_537c5e96e362row5_col4\" class=\"data row5 col4\" >LSTM(20)_emb_150</td> \n",
              "    </tr>    <tr> \n",
              "        <th id=\"T_8a315476_53ef_11e9_b3cf_537c5e96e362level0_row6\" class=\"row_heading level0 row6\" >15</th> \n",
              "        <td id=\"T_8a315476_53ef_11e9_b3cf_537c5e96e362row6_col0\" class=\"data row6 col0\" >0.556865</td> \n",
              "        <td id=\"T_8a315476_53ef_11e9_b3cf_537c5e96e362row6_col1\" class=\"data row6 col1\" >0.421177</td> \n",
              "        <td id=\"T_8a315476_53ef_11e9_b3cf_537c5e96e362row6_col2\" class=\"data row6 col2\" >0.73</td> \n",
              "        <td id=\"T_8a315476_53ef_11e9_b3cf_537c5e96e362row6_col3\" class=\"data row6 col3\" >0.923333</td> \n",
              "        <td id=\"T_8a315476_53ef_11e9_b3cf_537c5e96e362row6_col4\" class=\"data row6 col4\" >LSTM(50)_emb_200</td> \n",
              "    </tr>    <tr> \n",
              "        <th id=\"T_8a315476_53ef_11e9_b3cf_537c5e96e362level0_row7\" class=\"row_heading level0 row7\" >3</th> \n",
              "        <td id=\"T_8a315476_53ef_11e9_b3cf_537c5e96e362row7_col0\" class=\"data row7 col0\" >0.569678</td> \n",
              "        <td id=\"T_8a315476_53ef_11e9_b3cf_537c5e96e362row7_col1\" class=\"data row7 col1\" >0.469964</td> \n",
              "        <td id=\"T_8a315476_53ef_11e9_b3cf_537c5e96e362row7_col2\" class=\"data row7 col2\" >0.73</td> \n",
              "        <td id=\"T_8a315476_53ef_11e9_b3cf_537c5e96e362row7_col3\" class=\"data row7 col3\" >0.916667</td> \n",
              "        <td id=\"T_8a315476_53ef_11e9_b3cf_537c5e96e362row7_col4\" class=\"data row7 col4\" >LSTM(10)_emb_200</td> \n",
              "    </tr>    <tr> \n",
              "        <th id=\"T_8a315476_53ef_11e9_b3cf_537c5e96e362level0_row8\" class=\"row_heading level0 row8\" >5</th> \n",
              "        <td id=\"T_8a315476_53ef_11e9_b3cf_537c5e96e362row8_col0\" class=\"data row8 col0\" >0.576674</td> \n",
              "        <td id=\"T_8a315476_53ef_11e9_b3cf_537c5e96e362row8_col1\" class=\"data row8 col1\" >0.259655</td> \n",
              "        <td id=\"T_8a315476_53ef_11e9_b3cf_537c5e96e362row8_col2\" class=\"data row8 col2\" >0.73</td> \n",
              "        <td id=\"T_8a315476_53ef_11e9_b3cf_537c5e96e362row8_col3\" class=\"data row8 col3\" >0.93</td> \n",
              "        <td id=\"T_8a315476_53ef_11e9_b3cf_537c5e96e362row8_col4\" class=\"data row8 col4\" >LSTM(10)_emb_300</td> \n",
              "    </tr>    <tr> \n",
              "        <th id=\"T_8a315476_53ef_11e9_b3cf_537c5e96e362level0_row9\" class=\"row_heading level0 row9\" >0</th> \n",
              "        <td id=\"T_8a315476_53ef_11e9_b3cf_537c5e96e362row9_col0\" class=\"data row9 col0\" >0.595899</td> \n",
              "        <td id=\"T_8a315476_53ef_11e9_b3cf_537c5e96e362row9_col1\" class=\"data row9 col1\" >0.500879</td> \n",
              "        <td id=\"T_8a315476_53ef_11e9_b3cf_537c5e96e362row9_col2\" class=\"data row9 col2\" >0.72</td> \n",
              "        <td id=\"T_8a315476_53ef_11e9_b3cf_537c5e96e362row9_col3\" class=\"data row9 col3\" >0.893333</td> \n",
              "        <td id=\"T_8a315476_53ef_11e9_b3cf_537c5e96e362row9_col4\" class=\"data row9 col4\" >LSTM(10)_emb_50</td> \n",
              "    </tr>    <tr> \n",
              "        <th id=\"T_8a315476_53ef_11e9_b3cf_537c5e96e362level0_row10\" class=\"row_heading level0 row10\" >2</th> \n",
              "        <td id=\"T_8a315476_53ef_11e9_b3cf_537c5e96e362row10_col0\" class=\"data row10 col0\" >0.613612</td> \n",
              "        <td id=\"T_8a315476_53ef_11e9_b3cf_537c5e96e362row10_col1\" class=\"data row10 col1\" >0.358753</td> \n",
              "        <td id=\"T_8a315476_53ef_11e9_b3cf_537c5e96e362row10_col2\" class=\"data row10 col2\" >0.71</td> \n",
              "        <td id=\"T_8a315476_53ef_11e9_b3cf_537c5e96e362row10_col3\" class=\"data row10 col3\" >0.863333</td> \n",
              "        <td id=\"T_8a315476_53ef_11e9_b3cf_537c5e96e362row10_col4\" class=\"data row10 col4\" >LSTM(10)_emb_150</td> \n",
              "    </tr>    <tr> \n",
              "        <th id=\"T_8a315476_53ef_11e9_b3cf_537c5e96e362level0_row11\" class=\"row_heading level0 row11\" >7</th> \n",
              "        <td id=\"T_8a315476_53ef_11e9_b3cf_537c5e96e362row11_col0\" class=\"data row11 col0\" >0.537124</td> \n",
              "        <td id=\"T_8a315476_53ef_11e9_b3cf_537c5e96e362row11_col1\" class=\"data row11 col1\" >0.326944</td> \n",
              "        <td id=\"T_8a315476_53ef_11e9_b3cf_537c5e96e362row11_col2\" class=\"data row11 col2\" >0.7</td> \n",
              "        <td id=\"T_8a315476_53ef_11e9_b3cf_537c5e96e362row11_col3\" class=\"data row11 col3\" >0.912222</td> \n",
              "        <td id=\"T_8a315476_53ef_11e9_b3cf_537c5e96e362row11_col4\" class=\"data row11 col4\" >LSTM(20)_emb_100</td> \n",
              "    </tr>    <tr> \n",
              "        <th id=\"T_8a315476_53ef_11e9_b3cf_537c5e96e362level0_row12\" class=\"row_heading level0 row12\" >13</th> \n",
              "        <td id=\"T_8a315476_53ef_11e9_b3cf_537c5e96e362row12_col0\" class=\"data row12 col0\" >0.505275</td> \n",
              "        <td id=\"T_8a315476_53ef_11e9_b3cf_537c5e96e362row12_col1\" class=\"data row12 col1\" >0.282917</td> \n",
              "        <td id=\"T_8a315476_53ef_11e9_b3cf_537c5e96e362row12_col2\" class=\"data row12 col2\" >0.7</td> \n",
              "        <td id=\"T_8a315476_53ef_11e9_b3cf_537c5e96e362row12_col3\" class=\"data row12 col3\" >0.912222</td> \n",
              "        <td id=\"T_8a315476_53ef_11e9_b3cf_537c5e96e362row12_col4\" class=\"data row12 col4\" >LSTM(50)_emb_100</td> \n",
              "    </tr>    <tr> \n",
              "        <th id=\"T_8a315476_53ef_11e9_b3cf_537c5e96e362level0_row13\" class=\"row_heading level0 row13\" >10</th> \n",
              "        <td id=\"T_8a315476_53ef_11e9_b3cf_537c5e96e362row13_col0\" class=\"data row13 col0\" >0.542363</td> \n",
              "        <td id=\"T_8a315476_53ef_11e9_b3cf_537c5e96e362row13_col1\" class=\"data row13 col1\" >0.300405</td> \n",
              "        <td id=\"T_8a315476_53ef_11e9_b3cf_537c5e96e362row13_col2\" class=\"data row13 col2\" >0.69</td> \n",
              "        <td id=\"T_8a315476_53ef_11e9_b3cf_537c5e96e362row13_col3\" class=\"data row13 col3\" >0.904444</td> \n",
              "        <td id=\"T_8a315476_53ef_11e9_b3cf_537c5e96e362row13_col4\" class=\"data row13 col4\" >LSTM(20)_emb_250</td> \n",
              "    </tr>    <tr> \n",
              "        <th id=\"T_8a315476_53ef_11e9_b3cf_537c5e96e362level0_row14\" class=\"row_heading level0 row14\" >16</th> \n",
              "        <td id=\"T_8a315476_53ef_11e9_b3cf_537c5e96e362row14_col0\" class=\"data row14 col0\" >0.583066</td> \n",
              "        <td id=\"T_8a315476_53ef_11e9_b3cf_537c5e96e362row14_col1\" class=\"data row14 col1\" >0.268227</td> \n",
              "        <td id=\"T_8a315476_53ef_11e9_b3cf_537c5e96e362row14_col2\" class=\"data row14 col2\" >0.69</td> \n",
              "        <td id=\"T_8a315476_53ef_11e9_b3cf_537c5e96e362row14_col3\" class=\"data row14 col3\" >0.924444</td> \n",
              "        <td id=\"T_8a315476_53ef_11e9_b3cf_537c5e96e362row14_col4\" class=\"data row14 col4\" >LSTM(50)_emb_250</td> \n",
              "    </tr>    <tr> \n",
              "        <th id=\"T_8a315476_53ef_11e9_b3cf_537c5e96e362level0_row15\" class=\"row_heading level0 row15\" >9</th> \n",
              "        <td id=\"T_8a315476_53ef_11e9_b3cf_537c5e96e362row15_col0\" class=\"data row15 col0\" >0.568356</td> \n",
              "        <td id=\"T_8a315476_53ef_11e9_b3cf_537c5e96e362row15_col1\" class=\"data row15 col1\" >0.382596</td> \n",
              "        <td id=\"T_8a315476_53ef_11e9_b3cf_537c5e96e362row15_col2\" class=\"data row15 col2\" >0.68</td> \n",
              "        <td id=\"T_8a315476_53ef_11e9_b3cf_537c5e96e362row15_col3\" class=\"data row15 col3\" >0.892222</td> \n",
              "        <td id=\"T_8a315476_53ef_11e9_b3cf_537c5e96e362row15_col4\" class=\"data row15 col4\" >LSTM(20)_emb_200</td> \n",
              "    </tr>    <tr> \n",
              "        <th id=\"T_8a315476_53ef_11e9_b3cf_537c5e96e362level0_row16\" class=\"row_heading level0 row16\" >11</th> \n",
              "        <td id=\"T_8a315476_53ef_11e9_b3cf_537c5e96e362row16_col0\" class=\"data row16 col0\" >0.577743</td> \n",
              "        <td id=\"T_8a315476_53ef_11e9_b3cf_537c5e96e362row16_col1\" class=\"data row16 col1\" >0.196667</td> \n",
              "        <td id=\"T_8a315476_53ef_11e9_b3cf_537c5e96e362row16_col2\" class=\"data row16 col2\" >0.67</td> \n",
              "        <td id=\"T_8a315476_53ef_11e9_b3cf_537c5e96e362row16_col3\" class=\"data row16 col3\" >0.95</td> \n",
              "        <td id=\"T_8a315476_53ef_11e9_b3cf_537c5e96e362row16_col4\" class=\"data row16 col4\" >LSTM(20)_emb_300</td> \n",
              "    </tr>    <tr> \n",
              "        <th id=\"T_8a315476_53ef_11e9_b3cf_537c5e96e362level0_row17\" class=\"row_heading level0 row17\" >6</th> \n",
              "        <td id=\"T_8a315476_53ef_11e9_b3cf_537c5e96e362row17_col0\" class=\"data row17 col0\" >0.57946</td> \n",
              "        <td id=\"T_8a315476_53ef_11e9_b3cf_537c5e96e362row17_col1\" class=\"data row17 col1\" >0.416827</td> \n",
              "        <td id=\"T_8a315476_53ef_11e9_b3cf_537c5e96e362row17_col2\" class=\"data row17 col2\" >0.67</td> \n",
              "        <td id=\"T_8a315476_53ef_11e9_b3cf_537c5e96e362row17_col3\" class=\"data row17 col3\" >0.883333</td> \n",
              "        <td id=\"T_8a315476_53ef_11e9_b3cf_537c5e96e362row17_col4\" class=\"data row17 col4\" >LSTM(20)_emb_50</td> \n",
              "    </tr></tbody> \n",
              "</table> "
            ],
            "text/plain": [
              "<pandas.io.formats.style.Styler at 0x7f91021a1470>"
            ]
          },
          "metadata": {
            "tags": []
          },
          "execution_count": 11
        }
      ]
    },
    {
      "cell_type": "markdown",
      "metadata": {
        "id": "RdV3XLonhmxg",
        "colab_type": "text"
      },
      "source": [
        "LSTM with 50 neurons has the highest accuracy on test set but more than 10 percentage points of difference with train set, which means that our models can be overfitted. "
      ]
    },
    {
      "cell_type": "markdown",
      "metadata": {
        "id": "VtRLGFgxhmxh",
        "colab_type": "text"
      },
      "source": [
        "## 2. RNN with embedding layer"
      ]
    },
    {
      "cell_type": "markdown",
      "metadata": {
        "id": "UUUXE9Glhmxk",
        "colab_type": "text"
      },
      "source": [
        "We also try to repeat previous steps with RNN model. "
      ]
    },
    {
      "cell_type": "code",
      "metadata": {
        "id": "EvboFRmdhmxm",
        "colab_type": "code",
        "colab": {}
      },
      "source": [
        "rows1 = []"
      ],
      "execution_count": null,
      "outputs": []
    },
    {
      "cell_type": "code",
      "metadata": {
        "id": "YfbGy-80hmx0",
        "colab_type": "code",
        "colab": {}
      },
      "source": [
        "def RNN_emb(embb,neuron):\n",
        "    model = Sequential()\n",
        "    model.add(Embedding(vocab_size,embb,input_length=X.shape[1]))\n",
        "    model.add(SimpleRNN(neuron))\n",
        "    model.add(Dense(1,activation=\"sigmoid\")) \n",
        "\n",
        "    model.compile(loss=\"binary_crossentropy\",\n",
        "                 optimizer=\"adam\",\n",
        "                 metrics=[\"accuracy\"])\n",
        "    early_stopping = EarlyStopping(patience=2,monitor=\"val_acc\", min_delta=1)\n",
        "\n",
        "    history = model.fit(x_train,y_train, epochs=10, verbose=False, validation_split=0.2, \n",
        "              batch_size = 24, \n",
        "              callbacks=[early_stopping])\n",
        "    a,b = model.evaluate(x_test,y_test, verbose=False)[0], model.evaluate(x_test,y_test, verbose=False)[1]\n",
        "    c,d = model.evaluate(x_train,y_train, verbose=False)[0], model.evaluate(x_train,y_train, verbose=False)[1]\n",
        "    row = [a,c,b,d] \n",
        "    rows1.append(row) "
      ],
      "execution_count": null,
      "outputs": []
    },
    {
      "cell_type": "code",
      "metadata": {
        "id": "uQrY0i4_hmx-",
        "colab_type": "code",
        "colab": {}
      },
      "source": [
        "embb=[50,100,150,200,250,300]\n",
        "neuron =[10,20,50]\n",
        "for i in embb:\n",
        "    for n in neuron:\n",
        "     RNN_emb(i,n)"
      ],
      "execution_count": null,
      "outputs": []
    },
    {
      "cell_type": "code",
      "metadata": {
        "id": "pZMrNUu_hmyJ",
        "colab_type": "code",
        "colab": {},
        "outputId": "fea629c8-cf47-4df6-a0c1-365a64e7dd51"
      },
      "source": [
        "quality1 = pd.DataFrame(rows1)\n",
        "quality1.columns = ['Loss Test', 'Loss Train','Accuracy Test','Accuracy Train']\n",
        "quality1['Model'] = ['RNN(10)_emb_50','RNN(10)_emb_100','RNN(10)_emb_150','RNN(10)_emb_200', 'RNN(10)_emb_250','RNN(10)_emb_300',\n",
        "                    'RNN(20)_emb_50','RNN(20)_emb_100','RNN(20)_emb_150','RNN(20)_emb_200', 'RNN(20)_emb_250','RNN(20)_emb_300',\n",
        "                    'RNN(50)_emb_50','RNN(50)_emb_100','RNN(50)_emb_150','RNN(50)_emb_200', 'RNN(50)_emb_250','RNN(50)_emb_300'\n",
        "                   ]\n",
        "quality1 = quality1.sort_values(by=['Accuracy Test'], ascending=False)\n",
        "quality1"
      ],
      "execution_count": null,
      "outputs": [
        {
          "output_type": "execute_result",
          "data": {
            "text/html": [
              "<div>\n",
              "<style>\n",
              "    .dataframe thead tr:only-child th {\n",
              "        text-align: right;\n",
              "    }\n",
              "\n",
              "    .dataframe thead th {\n",
              "        text-align: left;\n",
              "    }\n",
              "\n",
              "    .dataframe tbody tr th {\n",
              "        vertical-align: top;\n",
              "    }\n",
              "</style>\n",
              "<table border=\"1\" class=\"dataframe\">\n",
              "  <thead>\n",
              "    <tr style=\"text-align: right;\">\n",
              "      <th></th>\n",
              "      <th>Loss Test</th>\n",
              "      <th>Loss Train</th>\n",
              "      <th>Accuracy Test</th>\n",
              "      <th>Accuracy Train</th>\n",
              "      <th>Model</th>\n",
              "    </tr>\n",
              "  </thead>\n",
              "  <tbody>\n",
              "    <tr>\n",
              "      <th>1</th>\n",
              "      <td>0.502097</td>\n",
              "      <td>0.325509</td>\n",
              "      <td>0.81</td>\n",
              "      <td>0.935556</td>\n",
              "      <td>RNN(10)_emb_100</td>\n",
              "    </tr>\n",
              "    <tr>\n",
              "      <th>0</th>\n",
              "      <td>0.539707</td>\n",
              "      <td>0.359847</td>\n",
              "      <td>0.80</td>\n",
              "      <td>0.922222</td>\n",
              "      <td>RNN(10)_emb_50</td>\n",
              "    </tr>\n",
              "    <tr>\n",
              "      <th>13</th>\n",
              "      <td>0.491428</td>\n",
              "      <td>0.213315</td>\n",
              "      <td>0.75</td>\n",
              "      <td>0.948889</td>\n",
              "      <td>RNN(50)_emb_100</td>\n",
              "    </tr>\n",
              "    <tr>\n",
              "      <th>16</th>\n",
              "      <td>0.483241</td>\n",
              "      <td>0.194044</td>\n",
              "      <td>0.74</td>\n",
              "      <td>0.954444</td>\n",
              "      <td>RNN(50)_emb_250</td>\n",
              "    </tr>\n",
              "    <tr>\n",
              "      <th>5</th>\n",
              "      <td>0.623693</td>\n",
              "      <td>0.232457</td>\n",
              "      <td>0.73</td>\n",
              "      <td>0.922222</td>\n",
              "      <td>RNN(10)_emb_300</td>\n",
              "    </tr>\n",
              "    <tr>\n",
              "      <th>8</th>\n",
              "      <td>0.583940</td>\n",
              "      <td>0.236119</td>\n",
              "      <td>0.72</td>\n",
              "      <td>0.917778</td>\n",
              "      <td>RNN(20)_emb_150</td>\n",
              "    </tr>\n",
              "    <tr>\n",
              "      <th>14</th>\n",
              "      <td>0.667163</td>\n",
              "      <td>0.227659</td>\n",
              "      <td>0.70</td>\n",
              "      <td>0.907778</td>\n",
              "      <td>RNN(50)_emb_150</td>\n",
              "    </tr>\n",
              "    <tr>\n",
              "      <th>17</th>\n",
              "      <td>0.675381</td>\n",
              "      <td>0.199901</td>\n",
              "      <td>0.69</td>\n",
              "      <td>0.918889</td>\n",
              "      <td>RNN(50)_emb_300</td>\n",
              "    </tr>\n",
              "    <tr>\n",
              "      <th>7</th>\n",
              "      <td>0.584407</td>\n",
              "      <td>0.262607</td>\n",
              "      <td>0.66</td>\n",
              "      <td>0.906667</td>\n",
              "      <td>RNN(20)_emb_100</td>\n",
              "    </tr>\n",
              "    <tr>\n",
              "      <th>4</th>\n",
              "      <td>0.632145</td>\n",
              "      <td>0.287275</td>\n",
              "      <td>0.66</td>\n",
              "      <td>0.903333</td>\n",
              "      <td>RNN(10)_emb_250</td>\n",
              "    </tr>\n",
              "    <tr>\n",
              "      <th>3</th>\n",
              "      <td>0.683377</td>\n",
              "      <td>0.374818</td>\n",
              "      <td>0.66</td>\n",
              "      <td>0.883333</td>\n",
              "      <td>RNN(10)_emb_200</td>\n",
              "    </tr>\n",
              "    <tr>\n",
              "      <th>9</th>\n",
              "      <td>0.599506</td>\n",
              "      <td>0.330700</td>\n",
              "      <td>0.66</td>\n",
              "      <td>0.902222</td>\n",
              "      <td>RNN(20)_emb_200</td>\n",
              "    </tr>\n",
              "    <tr>\n",
              "      <th>10</th>\n",
              "      <td>0.578627</td>\n",
              "      <td>0.279994</td>\n",
              "      <td>0.64</td>\n",
              "      <td>0.905556</td>\n",
              "      <td>RNN(20)_emb_250</td>\n",
              "    </tr>\n",
              "    <tr>\n",
              "      <th>2</th>\n",
              "      <td>0.681076</td>\n",
              "      <td>0.301672</td>\n",
              "      <td>0.63</td>\n",
              "      <td>0.906667</td>\n",
              "      <td>RNN(10)_emb_150</td>\n",
              "    </tr>\n",
              "    <tr>\n",
              "      <th>6</th>\n",
              "      <td>0.650936</td>\n",
              "      <td>0.386075</td>\n",
              "      <td>0.62</td>\n",
              "      <td>0.900000</td>\n",
              "      <td>RNN(20)_emb_50</td>\n",
              "    </tr>\n",
              "    <tr>\n",
              "      <th>11</th>\n",
              "      <td>0.638108</td>\n",
              "      <td>0.226802</td>\n",
              "      <td>0.62</td>\n",
              "      <td>0.906667</td>\n",
              "      <td>RNN(20)_emb_300</td>\n",
              "    </tr>\n",
              "    <tr>\n",
              "      <th>15</th>\n",
              "      <td>0.725942</td>\n",
              "      <td>0.308712</td>\n",
              "      <td>0.55</td>\n",
              "      <td>0.886667</td>\n",
              "      <td>RNN(50)_emb_200</td>\n",
              "    </tr>\n",
              "    <tr>\n",
              "      <th>12</th>\n",
              "      <td>0.704118</td>\n",
              "      <td>0.361740</td>\n",
              "      <td>0.54</td>\n",
              "      <td>0.883333</td>\n",
              "      <td>RNN(50)_emb_50</td>\n",
              "    </tr>\n",
              "  </tbody>\n",
              "</table>\n",
              "</div>"
            ],
            "text/plain": [
              "    Loss Test  Loss Train  Accuracy Test  Accuracy Train            Model\n",
              "1    0.502097    0.325509           0.81        0.935556  RNN(10)_emb_100\n",
              "0    0.539707    0.359847           0.80        0.922222   RNN(10)_emb_50\n",
              "13   0.491428    0.213315           0.75        0.948889  RNN(50)_emb_100\n",
              "16   0.483241    0.194044           0.74        0.954444  RNN(50)_emb_250\n",
              "5    0.623693    0.232457           0.73        0.922222  RNN(10)_emb_300\n",
              "8    0.583940    0.236119           0.72        0.917778  RNN(20)_emb_150\n",
              "14   0.667163    0.227659           0.70        0.907778  RNN(50)_emb_150\n",
              "17   0.675381    0.199901           0.69        0.918889  RNN(50)_emb_300\n",
              "7    0.584407    0.262607           0.66        0.906667  RNN(20)_emb_100\n",
              "4    0.632145    0.287275           0.66        0.903333  RNN(10)_emb_250\n",
              "3    0.683377    0.374818           0.66        0.883333  RNN(10)_emb_200\n",
              "9    0.599506    0.330700           0.66        0.902222  RNN(20)_emb_200\n",
              "10   0.578627    0.279994           0.64        0.905556  RNN(20)_emb_250\n",
              "2    0.681076    0.301672           0.63        0.906667  RNN(10)_emb_150\n",
              "6    0.650936    0.386075           0.62        0.900000   RNN(20)_emb_50\n",
              "11   0.638108    0.226802           0.62        0.906667  RNN(20)_emb_300\n",
              "15   0.725942    0.308712           0.55        0.886667  RNN(50)_emb_200\n",
              "12   0.704118    0.361740           0.54        0.883333   RNN(50)_emb_50"
            ]
          },
          "metadata": {
            "tags": []
          },
          "execution_count": 9
        }
      ]
    },
    {
      "cell_type": "code",
      "metadata": {
        "id": "UnCDs1xIhmyb",
        "colab_type": "code",
        "colab": {}
      },
      "source": [
        "color_table1 = quality1.style.\\\n",
        "    apply(highlight_max, color = 'lightgreen', subset=['Accuracy Test']).\\\n",
        "    apply(highlight_min, color = 'yellow', subset=['Loss Test'])"
      ],
      "execution_count": null,
      "outputs": []
    },
    {
      "cell_type": "code",
      "metadata": {
        "id": "jxQ18yoihmyp",
        "colab_type": "code",
        "colab": {},
        "outputId": "4030404d-8128-4ae5-a3ad-841651c6c1f3"
      },
      "source": [
        "color_table1"
      ],
      "execution_count": null,
      "outputs": [
        {
          "output_type": "execute_result",
          "data": {
            "text/html": [
              "<style  type=\"text/css\" >\n",
              "    #T_a287303a_53f5_11e9_8013_b1837b7e961brow0_col2 {\n",
              "            background-color:  lightgreen;\n",
              "        }    #T_a287303a_53f5_11e9_8013_b1837b7e961brow3_col0 {\n",
              "            background-color:  yellow;\n",
              "        }</style>  \n",
              "<table id=\"T_a287303a_53f5_11e9_8013_b1837b7e961b\" > \n",
              "<thead>    <tr> \n",
              "        <th class=\"blank level0\" ></th> \n",
              "        <th class=\"col_heading level0 col0\" >Loss Test</th> \n",
              "        <th class=\"col_heading level0 col1\" >Loss Train</th> \n",
              "        <th class=\"col_heading level0 col2\" >Accuracy Test</th> \n",
              "        <th class=\"col_heading level0 col3\" >Accuracy Train</th> \n",
              "        <th class=\"col_heading level0 col4\" >Model</th> \n",
              "    </tr></thead> \n",
              "<tbody>    <tr> \n",
              "        <th id=\"T_a287303a_53f5_11e9_8013_b1837b7e961blevel0_row0\" class=\"row_heading level0 row0\" >1</th> \n",
              "        <td id=\"T_a287303a_53f5_11e9_8013_b1837b7e961brow0_col0\" class=\"data row0 col0\" >0.502097</td> \n",
              "        <td id=\"T_a287303a_53f5_11e9_8013_b1837b7e961brow0_col1\" class=\"data row0 col1\" >0.325509</td> \n",
              "        <td id=\"T_a287303a_53f5_11e9_8013_b1837b7e961brow0_col2\" class=\"data row0 col2\" >0.81</td> \n",
              "        <td id=\"T_a287303a_53f5_11e9_8013_b1837b7e961brow0_col3\" class=\"data row0 col3\" >0.935556</td> \n",
              "        <td id=\"T_a287303a_53f5_11e9_8013_b1837b7e961brow0_col4\" class=\"data row0 col4\" >RNN(10)_emb_100</td> \n",
              "    </tr>    <tr> \n",
              "        <th id=\"T_a287303a_53f5_11e9_8013_b1837b7e961blevel0_row1\" class=\"row_heading level0 row1\" >0</th> \n",
              "        <td id=\"T_a287303a_53f5_11e9_8013_b1837b7e961brow1_col0\" class=\"data row1 col0\" >0.539707</td> \n",
              "        <td id=\"T_a287303a_53f5_11e9_8013_b1837b7e961brow1_col1\" class=\"data row1 col1\" >0.359847</td> \n",
              "        <td id=\"T_a287303a_53f5_11e9_8013_b1837b7e961brow1_col2\" class=\"data row1 col2\" >0.8</td> \n",
              "        <td id=\"T_a287303a_53f5_11e9_8013_b1837b7e961brow1_col3\" class=\"data row1 col3\" >0.922222</td> \n",
              "        <td id=\"T_a287303a_53f5_11e9_8013_b1837b7e961brow1_col4\" class=\"data row1 col4\" >RNN(10)_emb_50</td> \n",
              "    </tr>    <tr> \n",
              "        <th id=\"T_a287303a_53f5_11e9_8013_b1837b7e961blevel0_row2\" class=\"row_heading level0 row2\" >13</th> \n",
              "        <td id=\"T_a287303a_53f5_11e9_8013_b1837b7e961brow2_col0\" class=\"data row2 col0\" >0.491428</td> \n",
              "        <td id=\"T_a287303a_53f5_11e9_8013_b1837b7e961brow2_col1\" class=\"data row2 col1\" >0.213315</td> \n",
              "        <td id=\"T_a287303a_53f5_11e9_8013_b1837b7e961brow2_col2\" class=\"data row2 col2\" >0.75</td> \n",
              "        <td id=\"T_a287303a_53f5_11e9_8013_b1837b7e961brow2_col3\" class=\"data row2 col3\" >0.948889</td> \n",
              "        <td id=\"T_a287303a_53f5_11e9_8013_b1837b7e961brow2_col4\" class=\"data row2 col4\" >RNN(50)_emb_100</td> \n",
              "    </tr>    <tr> \n",
              "        <th id=\"T_a287303a_53f5_11e9_8013_b1837b7e961blevel0_row3\" class=\"row_heading level0 row3\" >16</th> \n",
              "        <td id=\"T_a287303a_53f5_11e9_8013_b1837b7e961brow3_col0\" class=\"data row3 col0\" >0.483241</td> \n",
              "        <td id=\"T_a287303a_53f5_11e9_8013_b1837b7e961brow3_col1\" class=\"data row3 col1\" >0.194044</td> \n",
              "        <td id=\"T_a287303a_53f5_11e9_8013_b1837b7e961brow3_col2\" class=\"data row3 col2\" >0.74</td> \n",
              "        <td id=\"T_a287303a_53f5_11e9_8013_b1837b7e961brow3_col3\" class=\"data row3 col3\" >0.954444</td> \n",
              "        <td id=\"T_a287303a_53f5_11e9_8013_b1837b7e961brow3_col4\" class=\"data row3 col4\" >RNN(50)_emb_250</td> \n",
              "    </tr>    <tr> \n",
              "        <th id=\"T_a287303a_53f5_11e9_8013_b1837b7e961blevel0_row4\" class=\"row_heading level0 row4\" >5</th> \n",
              "        <td id=\"T_a287303a_53f5_11e9_8013_b1837b7e961brow4_col0\" class=\"data row4 col0\" >0.623693</td> \n",
              "        <td id=\"T_a287303a_53f5_11e9_8013_b1837b7e961brow4_col1\" class=\"data row4 col1\" >0.232457</td> \n",
              "        <td id=\"T_a287303a_53f5_11e9_8013_b1837b7e961brow4_col2\" class=\"data row4 col2\" >0.73</td> \n",
              "        <td id=\"T_a287303a_53f5_11e9_8013_b1837b7e961brow4_col3\" class=\"data row4 col3\" >0.922222</td> \n",
              "        <td id=\"T_a287303a_53f5_11e9_8013_b1837b7e961brow4_col4\" class=\"data row4 col4\" >RNN(10)_emb_300</td> \n",
              "    </tr>    <tr> \n",
              "        <th id=\"T_a287303a_53f5_11e9_8013_b1837b7e961blevel0_row5\" class=\"row_heading level0 row5\" >8</th> \n",
              "        <td id=\"T_a287303a_53f5_11e9_8013_b1837b7e961brow5_col0\" class=\"data row5 col0\" >0.58394</td> \n",
              "        <td id=\"T_a287303a_53f5_11e9_8013_b1837b7e961brow5_col1\" class=\"data row5 col1\" >0.236119</td> \n",
              "        <td id=\"T_a287303a_53f5_11e9_8013_b1837b7e961brow5_col2\" class=\"data row5 col2\" >0.72</td> \n",
              "        <td id=\"T_a287303a_53f5_11e9_8013_b1837b7e961brow5_col3\" class=\"data row5 col3\" >0.917778</td> \n",
              "        <td id=\"T_a287303a_53f5_11e9_8013_b1837b7e961brow5_col4\" class=\"data row5 col4\" >RNN(20)_emb_150</td> \n",
              "    </tr>    <tr> \n",
              "        <th id=\"T_a287303a_53f5_11e9_8013_b1837b7e961blevel0_row6\" class=\"row_heading level0 row6\" >14</th> \n",
              "        <td id=\"T_a287303a_53f5_11e9_8013_b1837b7e961brow6_col0\" class=\"data row6 col0\" >0.667163</td> \n",
              "        <td id=\"T_a287303a_53f5_11e9_8013_b1837b7e961brow6_col1\" class=\"data row6 col1\" >0.227659</td> \n",
              "        <td id=\"T_a287303a_53f5_11e9_8013_b1837b7e961brow6_col2\" class=\"data row6 col2\" >0.7</td> \n",
              "        <td id=\"T_a287303a_53f5_11e9_8013_b1837b7e961brow6_col3\" class=\"data row6 col3\" >0.907778</td> \n",
              "        <td id=\"T_a287303a_53f5_11e9_8013_b1837b7e961brow6_col4\" class=\"data row6 col4\" >RNN(50)_emb_150</td> \n",
              "    </tr>    <tr> \n",
              "        <th id=\"T_a287303a_53f5_11e9_8013_b1837b7e961blevel0_row7\" class=\"row_heading level0 row7\" >17</th> \n",
              "        <td id=\"T_a287303a_53f5_11e9_8013_b1837b7e961brow7_col0\" class=\"data row7 col0\" >0.675381</td> \n",
              "        <td id=\"T_a287303a_53f5_11e9_8013_b1837b7e961brow7_col1\" class=\"data row7 col1\" >0.199901</td> \n",
              "        <td id=\"T_a287303a_53f5_11e9_8013_b1837b7e961brow7_col2\" class=\"data row7 col2\" >0.69</td> \n",
              "        <td id=\"T_a287303a_53f5_11e9_8013_b1837b7e961brow7_col3\" class=\"data row7 col3\" >0.918889</td> \n",
              "        <td id=\"T_a287303a_53f5_11e9_8013_b1837b7e961brow7_col4\" class=\"data row7 col4\" >RNN(50)_emb_300</td> \n",
              "    </tr>    <tr> \n",
              "        <th id=\"T_a287303a_53f5_11e9_8013_b1837b7e961blevel0_row8\" class=\"row_heading level0 row8\" >7</th> \n",
              "        <td id=\"T_a287303a_53f5_11e9_8013_b1837b7e961brow8_col0\" class=\"data row8 col0\" >0.584407</td> \n",
              "        <td id=\"T_a287303a_53f5_11e9_8013_b1837b7e961brow8_col1\" class=\"data row8 col1\" >0.262607</td> \n",
              "        <td id=\"T_a287303a_53f5_11e9_8013_b1837b7e961brow8_col2\" class=\"data row8 col2\" >0.66</td> \n",
              "        <td id=\"T_a287303a_53f5_11e9_8013_b1837b7e961brow8_col3\" class=\"data row8 col3\" >0.906667</td> \n",
              "        <td id=\"T_a287303a_53f5_11e9_8013_b1837b7e961brow8_col4\" class=\"data row8 col4\" >RNN(20)_emb_100</td> \n",
              "    </tr>    <tr> \n",
              "        <th id=\"T_a287303a_53f5_11e9_8013_b1837b7e961blevel0_row9\" class=\"row_heading level0 row9\" >4</th> \n",
              "        <td id=\"T_a287303a_53f5_11e9_8013_b1837b7e961brow9_col0\" class=\"data row9 col0\" >0.632145</td> \n",
              "        <td id=\"T_a287303a_53f5_11e9_8013_b1837b7e961brow9_col1\" class=\"data row9 col1\" >0.287275</td> \n",
              "        <td id=\"T_a287303a_53f5_11e9_8013_b1837b7e961brow9_col2\" class=\"data row9 col2\" >0.66</td> \n",
              "        <td id=\"T_a287303a_53f5_11e9_8013_b1837b7e961brow9_col3\" class=\"data row9 col3\" >0.903333</td> \n",
              "        <td id=\"T_a287303a_53f5_11e9_8013_b1837b7e961brow9_col4\" class=\"data row9 col4\" >RNN(10)_emb_250</td> \n",
              "    </tr>    <tr> \n",
              "        <th id=\"T_a287303a_53f5_11e9_8013_b1837b7e961blevel0_row10\" class=\"row_heading level0 row10\" >3</th> \n",
              "        <td id=\"T_a287303a_53f5_11e9_8013_b1837b7e961brow10_col0\" class=\"data row10 col0\" >0.683377</td> \n",
              "        <td id=\"T_a287303a_53f5_11e9_8013_b1837b7e961brow10_col1\" class=\"data row10 col1\" >0.374818</td> \n",
              "        <td id=\"T_a287303a_53f5_11e9_8013_b1837b7e961brow10_col2\" class=\"data row10 col2\" >0.66</td> \n",
              "        <td id=\"T_a287303a_53f5_11e9_8013_b1837b7e961brow10_col3\" class=\"data row10 col3\" >0.883333</td> \n",
              "        <td id=\"T_a287303a_53f5_11e9_8013_b1837b7e961brow10_col4\" class=\"data row10 col4\" >RNN(10)_emb_200</td> \n",
              "    </tr>    <tr> \n",
              "        <th id=\"T_a287303a_53f5_11e9_8013_b1837b7e961blevel0_row11\" class=\"row_heading level0 row11\" >9</th> \n",
              "        <td id=\"T_a287303a_53f5_11e9_8013_b1837b7e961brow11_col0\" class=\"data row11 col0\" >0.599506</td> \n",
              "        <td id=\"T_a287303a_53f5_11e9_8013_b1837b7e961brow11_col1\" class=\"data row11 col1\" >0.3307</td> \n",
              "        <td id=\"T_a287303a_53f5_11e9_8013_b1837b7e961brow11_col2\" class=\"data row11 col2\" >0.66</td> \n",
              "        <td id=\"T_a287303a_53f5_11e9_8013_b1837b7e961brow11_col3\" class=\"data row11 col3\" >0.902222</td> \n",
              "        <td id=\"T_a287303a_53f5_11e9_8013_b1837b7e961brow11_col4\" class=\"data row11 col4\" >RNN(20)_emb_200</td> \n",
              "    </tr>    <tr> \n",
              "        <th id=\"T_a287303a_53f5_11e9_8013_b1837b7e961blevel0_row12\" class=\"row_heading level0 row12\" >10</th> \n",
              "        <td id=\"T_a287303a_53f5_11e9_8013_b1837b7e961brow12_col0\" class=\"data row12 col0\" >0.578627</td> \n",
              "        <td id=\"T_a287303a_53f5_11e9_8013_b1837b7e961brow12_col1\" class=\"data row12 col1\" >0.279994</td> \n",
              "        <td id=\"T_a287303a_53f5_11e9_8013_b1837b7e961brow12_col2\" class=\"data row12 col2\" >0.64</td> \n",
              "        <td id=\"T_a287303a_53f5_11e9_8013_b1837b7e961brow12_col3\" class=\"data row12 col3\" >0.905556</td> \n",
              "        <td id=\"T_a287303a_53f5_11e9_8013_b1837b7e961brow12_col4\" class=\"data row12 col4\" >RNN(20)_emb_250</td> \n",
              "    </tr>    <tr> \n",
              "        <th id=\"T_a287303a_53f5_11e9_8013_b1837b7e961blevel0_row13\" class=\"row_heading level0 row13\" >2</th> \n",
              "        <td id=\"T_a287303a_53f5_11e9_8013_b1837b7e961brow13_col0\" class=\"data row13 col0\" >0.681076</td> \n",
              "        <td id=\"T_a287303a_53f5_11e9_8013_b1837b7e961brow13_col1\" class=\"data row13 col1\" >0.301672</td> \n",
              "        <td id=\"T_a287303a_53f5_11e9_8013_b1837b7e961brow13_col2\" class=\"data row13 col2\" >0.63</td> \n",
              "        <td id=\"T_a287303a_53f5_11e9_8013_b1837b7e961brow13_col3\" class=\"data row13 col3\" >0.906667</td> \n",
              "        <td id=\"T_a287303a_53f5_11e9_8013_b1837b7e961brow13_col4\" class=\"data row13 col4\" >RNN(10)_emb_150</td> \n",
              "    </tr>    <tr> \n",
              "        <th id=\"T_a287303a_53f5_11e9_8013_b1837b7e961blevel0_row14\" class=\"row_heading level0 row14\" >6</th> \n",
              "        <td id=\"T_a287303a_53f5_11e9_8013_b1837b7e961brow14_col0\" class=\"data row14 col0\" >0.650936</td> \n",
              "        <td id=\"T_a287303a_53f5_11e9_8013_b1837b7e961brow14_col1\" class=\"data row14 col1\" >0.386075</td> \n",
              "        <td id=\"T_a287303a_53f5_11e9_8013_b1837b7e961brow14_col2\" class=\"data row14 col2\" >0.62</td> \n",
              "        <td id=\"T_a287303a_53f5_11e9_8013_b1837b7e961brow14_col3\" class=\"data row14 col3\" >0.9</td> \n",
              "        <td id=\"T_a287303a_53f5_11e9_8013_b1837b7e961brow14_col4\" class=\"data row14 col4\" >RNN(20)_emb_50</td> \n",
              "    </tr>    <tr> \n",
              "        <th id=\"T_a287303a_53f5_11e9_8013_b1837b7e961blevel0_row15\" class=\"row_heading level0 row15\" >11</th> \n",
              "        <td id=\"T_a287303a_53f5_11e9_8013_b1837b7e961brow15_col0\" class=\"data row15 col0\" >0.638108</td> \n",
              "        <td id=\"T_a287303a_53f5_11e9_8013_b1837b7e961brow15_col1\" class=\"data row15 col1\" >0.226802</td> \n",
              "        <td id=\"T_a287303a_53f5_11e9_8013_b1837b7e961brow15_col2\" class=\"data row15 col2\" >0.62</td> \n",
              "        <td id=\"T_a287303a_53f5_11e9_8013_b1837b7e961brow15_col3\" class=\"data row15 col3\" >0.906667</td> \n",
              "        <td id=\"T_a287303a_53f5_11e9_8013_b1837b7e961brow15_col4\" class=\"data row15 col4\" >RNN(20)_emb_300</td> \n",
              "    </tr>    <tr> \n",
              "        <th id=\"T_a287303a_53f5_11e9_8013_b1837b7e961blevel0_row16\" class=\"row_heading level0 row16\" >15</th> \n",
              "        <td id=\"T_a287303a_53f5_11e9_8013_b1837b7e961brow16_col0\" class=\"data row16 col0\" >0.725942</td> \n",
              "        <td id=\"T_a287303a_53f5_11e9_8013_b1837b7e961brow16_col1\" class=\"data row16 col1\" >0.308712</td> \n",
              "        <td id=\"T_a287303a_53f5_11e9_8013_b1837b7e961brow16_col2\" class=\"data row16 col2\" >0.55</td> \n",
              "        <td id=\"T_a287303a_53f5_11e9_8013_b1837b7e961brow16_col3\" class=\"data row16 col3\" >0.886667</td> \n",
              "        <td id=\"T_a287303a_53f5_11e9_8013_b1837b7e961brow16_col4\" class=\"data row16 col4\" >RNN(50)_emb_200</td> \n",
              "    </tr>    <tr> \n",
              "        <th id=\"T_a287303a_53f5_11e9_8013_b1837b7e961blevel0_row17\" class=\"row_heading level0 row17\" >12</th> \n",
              "        <td id=\"T_a287303a_53f5_11e9_8013_b1837b7e961brow17_col0\" class=\"data row17 col0\" >0.704118</td> \n",
              "        <td id=\"T_a287303a_53f5_11e9_8013_b1837b7e961brow17_col1\" class=\"data row17 col1\" >0.36174</td> \n",
              "        <td id=\"T_a287303a_53f5_11e9_8013_b1837b7e961brow17_col2\" class=\"data row17 col2\" >0.54</td> \n",
              "        <td id=\"T_a287303a_53f5_11e9_8013_b1837b7e961brow17_col3\" class=\"data row17 col3\" >0.883333</td> \n",
              "        <td id=\"T_a287303a_53f5_11e9_8013_b1837b7e961brow17_col4\" class=\"data row17 col4\" >RNN(50)_emb_50</td> \n",
              "    </tr></tbody> \n",
              "</table> "
            ],
            "text/plain": [
              "<pandas.io.formats.style.Styler at 0x7f59cdb54c50>"
            ]
          },
          "metadata": {
            "tags": []
          },
          "execution_count": 17
        }
      ]
    },
    {
      "cell_type": "markdown",
      "metadata": {
        "id": "loVrfqrShmy4",
        "colab_type": "text"
      },
      "source": [
        "RNN with 10 neurons has the highest accuracy on test set but more than 10 percentage points of difference with train set, which means that our models can be overfitted. "
      ]
    },
    {
      "cell_type": "markdown",
      "metadata": {
        "id": "YuDjBkfShmy6",
        "colab_type": "text"
      },
      "source": [
        "## 3. LSTM with own Word2vec"
      ]
    },
    {
      "cell_type": "markdown",
      "metadata": {
        "id": "R3FDQOP2hmy7",
        "colab_type": "text"
      },
      "source": [
        "Word2vec processes documents sentence by sentence so data should be prepared differently than in previous example. "
      ]
    },
    {
      "cell_type": "code",
      "metadata": {
        "id": "9JUQoX2whmzB",
        "colab_type": "code",
        "colab": {}
      },
      "source": [
        "text = df[\"Text\"]\n",
        "last_row = df.shape[0]-1"
      ],
      "execution_count": null,
      "outputs": []
    },
    {
      "cell_type": "code",
      "metadata": {
        "id": "9osFGQ5XhmzP",
        "colab_type": "code",
        "colab": {}
      },
      "source": [
        "clean = []\n",
        "for i in range(0,last_row):\n",
        "    tokens = text[i].split()\n",
        "    table = str.maketrans('', '', punctuation)\n",
        "    tokens = [w.translate(table) for w in tokens]\n",
        "    clean.append(tokens)"
      ],
      "execution_count": null,
      "outputs": []
    },
    {
      "cell_type": "code",
      "metadata": {
        "id": "ksHWLTOzhmzZ",
        "colab_type": "code",
        "colab": {}
      },
      "source": [
        "def load_embedding(filename):\n",
        "    file = open(filename,'r')\n",
        "    lines = file.readlines()\n",
        "    file.close()\n",
        "    embedding = dict()\n",
        "    for line in lines:\n",
        "        parts = line.split()\n",
        "        embedding[parts[0]] = np.asarray(parts[1:], dtype='float32')\n",
        "    return embedding\n",
        " \n",
        "def get_weight_matrix(embedding, vocab):\n",
        "    vocab_size = len(vocab) + 1\n",
        "    weight_matrix = np.zeros((vocab_size, 200))\n",
        "    for word, i in vocab.items():\n",
        "        vector = embedding.get(word)\n",
        "        if vector is not None:\n",
        "            weight_matrix[i] = vector\n",
        "    return weight_matrix"
      ],
      "execution_count": null,
      "outputs": []
    },
    {
      "cell_type": "markdown",
      "metadata": {
        "id": "eX4q8wjvhmzi",
        "colab_type": "text"
      },
      "source": [
        "### a) CBOW"
      ]
    },
    {
      "cell_type": "code",
      "metadata": {
        "id": "6iN6Dn5nhmzl",
        "colab_type": "code",
        "colab": {}
      },
      "source": [
        "model = Word2Vec(clean, size=200, window=5, workers=3, min_count=1, sg=1)\n",
        "filename = 'embedding_word2vec_cbow.txt'\n",
        "model.wv.save_word2vec_format(filename, binary=False)\n",
        "raw_embedding = load_embedding('embedding_word2vec_cbow.txt')\n",
        "embedding_vectors = get_weight_matrix(raw_embedding, tokenizer.word_index)\n",
        "#embedding_layer = Embedding(vocab_size, 200, weights=[embedding_vectors], input_length=X.shape[1], trainable=False)"
      ],
      "execution_count": null,
      "outputs": []
    },
    {
      "cell_type": "markdown",
      "metadata": {
        "id": "Zq4GWtuthmzt",
        "colab_type": "text"
      },
      "source": [
        "#### Model LSTM"
      ]
    },
    {
      "cell_type": "code",
      "metadata": {
        "collapsed": true,
        "id": "iJuDtusLhmzv",
        "colab_type": "code",
        "colab": {}
      },
      "source": [
        "rows2 = []"
      ],
      "execution_count": null,
      "outputs": []
    },
    {
      "cell_type": "code",
      "metadata": {
        "id": "UtAZYW5Whmz2",
        "colab_type": "code",
        "colab": {}
      },
      "source": [
        "def LSTM(neurons):\n",
        "    model = Sequential()\n",
        "    model.add(Embedding(vocab_size, 200, weights=[embedding_vectors], input_length=X.shape[1], trainable=False))\n",
        "    model.add(Bidirectional(LSTM(neurons)))\n",
        "    model.add(Dense(1,activation=\"sigmoid\")) # to jest nasz klasyfikator \n",
        "\n",
        "    model.compile(loss=\"binary_crossentropy\",\n",
        "                 optimizer=\"adam\",\n",
        "                 metrics=[\"accuracy\"])\n",
        "    early_stopping = EarlyStopping(patience=2,monitor=\"val_acc\", min_delta=1)\n",
        "\n",
        "    history = model.fit(x_train,y_train, epochs=10, verbose=False, validation_split=0.2, \n",
        "              batch_size = 24, \n",
        "              callbacks=[early_stopping])\n",
        "    a,b = model.evaluate(x_test,y_test, verbose=False)[0], model.evaluate(x_test,y_test, verbose=False)[1]\n",
        "    c,d = model.evaluate(x_train,y_train, verbose=False)[0], model.evaluate(x_train,y_train, verbose=False)[1]\n",
        "    row = [a,c,b,d] \n",
        "    rows2.append(row) "
      ],
      "execution_count": null,
      "outputs": []
    },
    {
      "cell_type": "code",
      "metadata": {
        "id": "DXoT_7kDhm0E",
        "colab_type": "code",
        "colab": {}
      },
      "source": [
        "LSTM(10)"
      ],
      "execution_count": null,
      "outputs": []
    },
    {
      "cell_type": "code",
      "metadata": {
        "collapsed": true,
        "id": "uFv81Ipdhm0N",
        "colab_type": "code",
        "colab": {}
      },
      "source": [
        "quality2 = pd.DataFrame(rows)\n",
        "quality2.columns = ['Loss Test', 'Loss Train','Accuracy Test','Accuracy Train']\n",
        "quality2['Model'] = ['LSTM(10)_cbow','LSTM(20)_cbow','LSTM(30)_cbow']\n",
        "quality2 = quality2.sort_values(by=['Accuracy Test'], ascending=False)"
      ],
      "execution_count": null,
      "outputs": []
    },
    {
      "cell_type": "code",
      "metadata": {
        "collapsed": true,
        "id": "g1jzuJ7thm0c",
        "colab_type": "code",
        "colab": {}
      },
      "source": [
        "color_table1 = quality2.style.\\\n",
        "    apply(highlight_max, color = 'lightgreen', subset=['Accuracy Test']).\\\n",
        "    apply(highlight_min, color = 'yellow', subset=['Loss Test'])"
      ],
      "execution_count": null,
      "outputs": []
    },
    {
      "cell_type": "markdown",
      "metadata": {
        "id": "p404GgUDhm0k",
        "colab_type": "text"
      },
      "source": [
        "Using CBOW, overfitting problem doesn't occur but the accuracy is significantly lower than in previous model."
      ]
    },
    {
      "cell_type": "markdown",
      "metadata": {
        "id": "INm9aG1Fhm0n",
        "colab_type": "text"
      },
      "source": [
        "#### Model RNN"
      ]
    },
    {
      "cell_type": "code",
      "metadata": {
        "collapsed": true,
        "id": "vFaJa0iShm0p",
        "colab_type": "code",
        "colab": {}
      },
      "source": [
        "rows3 = []"
      ],
      "execution_count": null,
      "outputs": []
    },
    {
      "cell_type": "code",
      "metadata": {
        "collapsed": true,
        "id": "pUCrts30hm0v",
        "colab_type": "code",
        "colab": {}
      },
      "source": [
        "def RNN(neuron):\n",
        "    model = Sequential()\n",
        "    model.add(embedding_layer)\n",
        "    model.add(SimpleRNN(neuron))\n",
        "    model.add(Dense(1,activation=\"sigmoid\")) \n",
        "\n",
        "    model.compile(loss=\"binary_crossentropy\",\n",
        "                 optimizer=\"adam\",\n",
        "                 metrics=[\"accuracy\"])\n",
        "    early_stopping = EarlyStopping(patience=2,monitor=\"val_acc\", min_delta=1)\n",
        "\n",
        "    history = model.fit(x_train,y_train, epochs=10, verbose=False, validation_split=0.2, \n",
        "              batch_size = 24, \n",
        "              callbacks=[early_stopping])\n",
        "    a,b = model.evaluate(x_test,y_test, verbose=False)[0], model.evaluate(x_test,y_test, verbose=False)[1]\n",
        "    c,d = model.evaluate(x_train,y_train, verbose=False)[0], model.evaluate(x_train,y_train, verbose=False)[1]\n",
        "    row = [a,c,b,d] \n",
        "    rows3.append(row) "
      ],
      "execution_count": null,
      "outputs": []
    },
    {
      "cell_type": "code",
      "metadata": {
        "collapsed": true,
        "id": "_RgZ9c6ahm01",
        "colab_type": "code",
        "colab": {}
      },
      "source": [
        "neurons =[10,20,50]\n",
        "for n in neurons:\n",
        " RNN(n)"
      ],
      "execution_count": null,
      "outputs": []
    },
    {
      "cell_type": "code",
      "metadata": {
        "collapsed": true,
        "id": "kbTZmXN9hm07",
        "colab_type": "code",
        "colab": {}
      },
      "source": [
        ""
      ],
      "execution_count": null,
      "outputs": []
    },
    {
      "cell_type": "code",
      "metadata": {
        "collapsed": true,
        "id": "h7VZCYOJhm1C",
        "colab_type": "code",
        "colab": {}
      },
      "source": [
        "color_table3 = quality3.style.\\\n",
        "    apply(highlight_max, color = 'lightgreen', subset=['Accuracy Test']).\\\n",
        "    apply(highlight_min, color = 'yellow', subset=['Loss Test'])"
      ],
      "execution_count": null,
      "outputs": []
    },
    {
      "cell_type": "markdown",
      "metadata": {
        "id": "uU7dNnA_hm1K",
        "colab_type": "text"
      },
      "source": [
        "### b) Skip grams"
      ]
    },
    {
      "cell_type": "code",
      "metadata": {
        "id": "DNs4WMP3hm1M",
        "colab_type": "code",
        "colab": {}
      },
      "source": [
        "model = Word2Vec(clean, size=200, window=5, workers=3, min_count=1,sg=0)\n",
        "filename = 'embedding_word2vec_skipgrams.txt'\n",
        "model.wv.save_word2vec_format(filename, binary=False)\n",
        "raw_embedding = load_embedding('embedding_word2vec_skipgrams.txt')\n",
        "embedding_vectors = get_weight_matrix(raw_embedding, tokenizer.word_index)\n",
        "embedding_layer = Embedding(vocab_size, 200, weights=[embedding_vectors], input_length=X.shape[1], trainable=False)"
      ],
      "execution_count": null,
      "outputs": []
    },
    {
      "cell_type": "markdown",
      "metadata": {
        "id": "7bzNT737hm1R",
        "colab_type": "text"
      },
      "source": [
        "#### Model LSTM"
      ]
    },
    {
      "cell_type": "code",
      "metadata": {
        "id": "Quy44FTUhm1T",
        "colab_type": "code",
        "colab": {},
        "outputId": "871e1fbb-843c-4c14-b5fd-5f09d532f437"
      },
      "source": [
        "rows4 = []"
      ],
      "execution_count": null,
      "outputs": [
        {
          "output_type": "stream",
          "text": [
            "Train on 720 samples, validate on 180 samples\n",
            "Epoch 1/10\n",
            "720/720 [==============================] - 8s 11ms/step - loss: 0.6944 - acc: 0.4792 - val_loss: 0.6935 - val_acc: 0.4889\b\b\b\b\b\b\b\b\b\b\b\b\b\b\b\b\b\b\b\b\b\b\b\b\b\b\b\b\b\b\b\b\b\b\b\b\b\b\b\b\b\b\b\b\b\b\b\b\b\b\b\b\b\b\b\b\b\b\b\b\b\b\b\b\b\b\b\b\b\b\b\b\b\b\b\b\b\b\b\b\b\b\b\b\b\b\b\b\b\b\b\b\b\b\b\b\b\b\b\b\b\b\b\b\b\b\b\b\b\b\b\b\b\b\b\b\b\b\b\b\b\b\b\b\b\b\b\b\b\b\b\b\b\b\b\b\b\b\b\b\b\b\b\b\b\b\b\b\b\b\b\b\b\b\b\b\b\b\b\b\b\b\b\b\b\b\b\b\b\b\b\b\b\b\b\b\b\b\b\b\b\b\b\b\b\b\b\b\b\b\b\b\b\b\b\b\b\b\b\b\b\b\b\b\b\b\b\b\b\b\b\b\b\b\b\b\b\b\b\b\b\b\b\b\b\b\b\b\b\b\b\b\b\b\b\b\b\b\b\b\b\b\b\b\b\b\b\b\b\b\b\b\b\b\b\b\b\b\b\b\b\b\b\b\b\b\b\b\b\b\b\b\b\b\b\b\b\b\b\b\b\b\b\b\b\b\b\b\b\b\b\b\b\b\b\b\b\b\b\b\b\b\b\b\b\b\b\b\b\b\b\b\b\b\b\b\b\b\b\b\b\b\b\b\b\b\b\b\b\b\b\b\b\b\b\b\b\b\b\b\b\b\b\b\b\b\b\b\b\b\b\b\b\b\b\b\b\b\b\b\b\b\b\b\b\b\b\b\b\b\b\b\b\b\b\b\b\b\b\b\b\b\b\b\b\b\b\b\b\b\b\b\b\b\b\b\b\b\b\b\b\b\b\b\b\b\b\b\b\b\b\b\b\b\b\b\b\b\b\b\b\b\b\b\b\b\b\b\b\b\b\b\b\b\b\b\b\b\b\b\b\b\b\b\b\b\b\b\b\b\b\b\b\b\b\b\b\b\b\b\b\b\b\b\b\b\b\b\b\b\b\b\b\b\b\b\b\b\b\b\b\b\b\b\b\b\b\b\b\b\b\b\b\b\b\b\b\b\b\b\b\b\b\b\b\b\b\b\b\b\b\b\b\b\b\b\b\b\b\b\b\b\b\b\b\b\b\b\b\b\b\b\b\b\b\b\b\b\b\b\b\b\b\b\b\b\b\b\b\b\b\b\b\b\b\b\b\b\b\b\b\b\b\b\b\b\b\b\b\b\b\b\b\b\b\b\b\b\b\b\b\b\b\b\b\b\b\b\b\b\b\b\b\b\b\b\b\b\b\b\b\b\b\b\b\b\b\b\b\b\b\b\b\b\b\b\b\b\b\b\b\b\b\b\b\b\b\b\b\b\b\b\b\b\b\b\b\b\b\b\b\b\b\b\b\b\b\b\b\b\b\b\b\b\b\b\b\b\b\b\b\b\b\b\b\b\b\b\b\b\b\b\b\b\b\b\b\b\b\b\b\b\b\b\b\b\b\b\b\b\b\b\b\b\b\b\b\b\b\b\b\b\b\b\b\b\b\b\b\b\b\b\b\b\b\b\b\b\b\b\b\b\b\b\b\b\b\b\b\b\b\b\b\b\b\b\b\b\b\b\b\b\b\b\b\b\b\b\b\b\b\b\b\b\b\b\b\b\b\b\b\b\b\b\b\b\b\b\b\b\b\b\b\b\b\b\b\b\b\b\b\b\b\b\b\b\b\b\b\b\b\b\b\b\b\b\b\b\b\b\b\b\b\b\b\b\b\b\b\b\b\b\b\b\b\b\b\b\b\b\b\b\b\b\b\b\b\b\b\b\b\b\b\b\b\b\b\b\b\b\b\b\b\b\b\b\b\b\b\b\b\b\b\b\b\b\b\b\b\b\b\b\b\b\b\b\b\b\b\b\b\b\b\b\b\b\b\b\b\b\b\b\b\b\b\b\b\b\b\b\b\b\b\b\b\b\b\b\b\b\b\b\b\b\b\b\b\b\b\b\b\b\b\b\b\b\b\b\b\b\b\b\b\b\b\b\b\b\b\b\b\b\b\b\b\b\b\b\b\b\b\b\b\b\b\b\b\b\b\b\b\b\b\b\b\b\b\b\b\b\b\b\b\b\b\b\b\b\b\b\b\b\b\b\b\b\b\b\b\b\b\b\b\b\b\b\b\b\b\b\b\b\b\b\b\b\b\b\b\b\b\b\b\b\b\b\b\b\b\b\b\b\b\b\b\b\b\b\b\b\b\b\b\b\b\b\b\b\b\b\b\b\b\b\b\b\b\b\b\b\b\b\b\b\b\b\b\b\b\b\b\b\b\b\b\b\b\b\b\b\b\b\b\b\b\b\b\b\b\b\b\b\b\b\b\b\b\b\b\b\b\b\b\b\b\b\b\b\b\b\b\b\b\b\b\b\b\b\b\b\b\b\b\b\b\b\b\b\b\b\b\b\b\b\b\b\b\b\b\b\b\b\b\b\b\b\b\b\b\b\b\b\b\b\b\b\b\b\b\b\b\b\b\b\b\b\b\b\b\b\b\b\b\b\b\b\b\b\b\b\b\b\b\b\b\b\b\b\b\b\b\b\b\b\b\b\b\b\b\b\b\b\b\b\b\b\b\b\b\b\b\b\b\b\b\b\b\b\b\b\b\b\b\b\b\b\b\b\b\b\b\b\b\b\b\b\b\b\b\b\b\b\b\b\b\b\b\b\b\b\b\b\b\b\b\b\b\b\b\b\b\b\b\b\b\b\b\b\b\b\b\b\b\b\b\b\b\b\b\b\b\b\b\b\b\b\b\b\b\b\b\b\b\b\b\b\b\b\b\b\b\b\b\b\b\b\b\b\b\b\b\b\b\b\b\b\b\b\b\b\b\b\b\b\b\b\b\b\b\b\b\b\b\b\b\b\b\b\b\b\b\b\b\b\b\b\b\b\b\b\b\b\b\b\b\b\b\b\b\b\b\b\b\b\b\b\b\b\b\b\b\b\b\b\b\b\b\b\b\b\b\b\b\b\b\b\b\b\b\b\b\b\b\b\b\b\b\b\b\b\b\b\b\b\b\b\b\b\b\b\b\b\b\b\b\b\b\b\b\b\b\b\b\b\b\b\b\b\b\b\b\b\b\b\b\b\b\b\b\b\b\b\b\b\b\b\b\b\b\b\b\b\b\b\b\b\b\b\b\b\b\b\b\b\b\b\b\b\b\b\b\b\b\b\b\b\b\b\b\b\b\b\b\b\b\b\b\b\b\b\b\b\b\b\b\b\b\b\b\b\b\b\b\b\b\b\b\b\b\b\b\b\b\b\b\b\b\b\b\b\b\b\b\b\b\b\b\b\b\b\b\b\b\b\b\b\b\b\b\b\b\b\b\b\b\b\b\b\b\b\b\b\b\b\b\b\b\b\b\b\b\b\b\b\b\b\b\b\b\b\b\b\b\b\b\b\b\b\b\b\b\b\b\b\b\b\b\b\b\b\b\b\b\b\b\b\b\b\b\b\b\b\b\b\b\b\b\b\b\b\b\b\b\b\b\b\b\b\b\b\b\b\b\b\b\b\b\b\b\b\b\b\b\b\b\b\b\b\b\b\b\b\b\b\b\b\b\b\b\b\b\b\b\b\b\b\b\b\b\b\b\b\b\b\b\b\b\b\b\b\b\b\b\b\b\b\b\b\b\b\b\b\b\b\b\b\b\b\b\b\b\b\b\b\b\b\b\b\b\b\b\b\b\b\b\b\b\b\b\b\b\b\b\b\b\b\b\b\b\b\b\b\b\b\b\b\b\b\b\b\b\b\b\b\b\b\b\b\b\b\b\b\b\b\b\b\b\b\b\b\b\b\b\b\b\b\b\b\b\b\b\b\b\b\b\b\b\b\b\b\b\b\b\b\b\b\b\b\b\b\b\b\b\b\b\b\b\b\b\b\b\b\b\b\b\b\b\b\b\b\b\b\b\b\b\b\b\b\b\b\b\b\b\b\b\b\b\b\b\b\b\b\b\b\b\b\b\b\b\b\b\b\b\b\b\b\b\b\b\b\b\b\b\b\b\b\b\b\b\b\b\b\b\b\b\b\b\b\b\b\b\b\b\b\b\b\b\b\b\b\b\b\b\b\b\b\b\b\b\b\b\b\b\b\b\b\b\b\b\b\b\b\b\b\b\b\b\b\b\b\b\b\b\b\b\b\b\b\b\b\b\b\b\b\b\b\b\b\b\b\b\b\b\b\b\b\b\b\b\b\b\b\b\b\b\b\b\b\b\b\b\b\b\b\b\b\b\b\b\b\b\b\b\b\b\b\b\b\b\b\b\b\b\b\b\b\b\b\b\b\b\b\b\b\b\b\b\b\b\b\b\b\b\b\b\b\b\b\b\b\b\b\b\b\b\b\b\b\b\b\b\b\b\b\b\b\b\b\b\b\b\b\b\b\b\b\b\b\b\b\b\b\b\b\b\b\b\b\b\b\b\b\b\b\b\b\b\b\b\b\b\b\b\b\b\b\b\b\b\b\b\b\b\b\b\b\b\b\b\b\b\b\b\b\b\b\b\b\b\b\b\b\b\b\b\b\b\b\b\b\b\b\b\b\b\b\b\b\b\b\b\b\b\b\b\b\b\b\b\b\b\b\b\b\b\b\b\b\b\b\b\b\b\b\b\b\b\b\b\b\b\b\b\b\b\b\b\b\b\b\b\b\b\b\b\b\b\b\b\b\b\b\b\b\b\b\b\b\b\b\b\b\b\b\b\b\b\b\b\b\b\b\b\b\b\b\b\b\b\b\b\b\b\b\b\b\b\b\b\b\b\b\b\b\b\b\b\b\b\b\b\b\b\b\b\b\b\b\b\b\b\b\b\b\b\b\b\b\b\b\b\b\b\b\b\b\b\b\b\b\b\b\b\b\b\b\b\b\b\b\b\b\b\b\b\b\b\b\b\b\b\b\b\b\b\b\b\b\b\b\b\b\b\b\b\b\b\b\b\b\b\b\b\b\b\b\b\b\b\b\b\b\b\b\b\b\b\b\b\b\b\b\n",
            "Epoch 2/10\n",
            "720/720 [==============================] - 5s 6ms/step - loss: 0.6940 - acc: 0.4750 - val_loss: 0.6933 - val_acc: 0.5111\b\b\b\b\b\b\b\b\b\b\b\b\b\b\b\b\b\b\b\b\b\b\b\b\b\b\b\b\b\b\b\b\b\b\b\b\b\b\b\b\b\b\b\b\b\b\b\b\b\b\b\b\b\b\b\b\b\b\b\b\b\b\b\b\b\b\b\b\b\b\b\b\b\b\b\b\b\b\b\b\b\b\b\b\b\b\b\b\b\b\b\b\b\b\b\b\b\b\b\b\b\b\b\b\b\b\b\b\b\b\b\b\b\b\b\b\b\b\b\b\b\b\b\b\b\b\b\b\b\b\b\b\b\b\b\b\b\b\b\b\b\b\b\b\b\b\b\b\b\b\b\b\b\b\b\b\b\b\b\b\b\b\b\b\b\b\b\b\b\b\b\b\b\b\b\b\b\b\b\b\b\b\b\b\b\b\b\b\b\b\b\b\b\b\b\b\b\b\b\b\b\b\b\b\b\b\b\b\b\b\b\b\b\b\b\b\b\b\b\b\b\b\b\b\b\b\b\b\b\b\b\b\b\b\b\b\b\b\b\b\b\b\b\b\b\b\b\b\b\b\b\b\b\b\b\b\b\b\b\b\b\b\b\b\b\b\b\b\b\b\b\b\b\b\b\b\b\b\b\b\b\b\b\b\b\b\b\b\b\b\b\b\b\b\b\b\b\b\b\b\b\b\b\b\b\b\b\b\b\b\b\b\b\b\b\b\b\b\b\b\b\b\b\b\b\b\b\b\b\b\b\b\b\b\b\b\b\b\b\b\b\b\b\b\b\b\b\b\b\b\b\b\b\b\b\b\b\b\b\b\b\b\b\b\b\b\b\b\b\b\b\b\b\b\b\b\b\b\b\b\b\b\b\b\b\b\b\b\b\b\b\b\b\b\b\b\b\b\b\b\b\b\b\b\b\b\b\b\b\b\b\b\b\b\b\b\b\b\b\b\b\b\b\b\b\b\b\b\b\b\b\b\b\b\b\b\b\b\b\b\b\b\b\b\b\b\b\b\b\b\b\b\b\b\b\b\b\b\b\b\b\b\b\b\b\b\b\b\b\b\b\b\b\b\b\b\b\b\b\b\b\b\b\b\b\b\b\b\b\b\b\b\b\b\b\b\b\b\b\b\b\b\b\b\b\b\b\b\b\b\b\b\b\b\b\b\b\b\b\b\b\b\b\b\b\b\b\b\b\b\b\b\b\b\b\b\b\b\b\b\b\b\b\b\b\b\b\b\b\b\b\b\b\b\b\b\b\b\b\b\b\b\b\b\b\b\b\b\b\b\b\b\b\b\b\b\b\b\b\b\b\b\b\b\b\b\b\b\b\b\b\b\b\b\b\b\b\b\b\b\b\b\b\b\b\b\b\b\b\b\b\b\b\b\b\b\b\b\b\b\b\b\b\b\b\b\b\b\b\b\b\b\b\b\b\b\b\b\b\b\b\b\b\b\b\b\b\b\b\b\b\b\b\b\b\b\b\b\b\b\b\b\b\b\b\b\b\b\b\b\b\b\b\b\b\b\b\b\b\b\b\b\b\b\b\b\b\b\b\b\b\b\b\b\b\b\b\b\b\b\b\b\b\b\b\b\b\b\b\b\b\b\b\b\b\b\b\b\b\b\b\b\b\b\b\b\b\b\b\b\b\b\b\b\b\b\b\b\b\b\b\b\b\b\b\b\b\b\b\b\b\b\b\b\b\b\b\b\b\b\b\b\b\b\b\b\b\b\b\b\b\b\b\b\b\b\b\b\b\b\b\b\b\b\b\b\b\b\b\b\b\b\b\b\b\b\b\b\b\b\b\b\b\b\b\b\b\b\b\b\b\b\b\b\b\b\b\b\b\b\b\b\b\b\b\b\b\b\b\b\b\b\b\b\b\b\b\b\b\b\b\b\b\b\b\b\b\b\b\b\b\b\b\b\b\b\b\b\b\b\b\b\b\b\b\b\b\b\b\b\b\b\b\b\b\b\b\b\b\b\b\b\b\b\b\b\b\b\b\b\b\b\b\b\b\b\b\b\b\b\b\b\b\b\b\b\b\b\b\b\b\b\b\b\b\b\b\b\b\b\b\b\b\b\b\b\b\b\b\b\b\b\b\b\b\b\b\b\b\b\b\b\b\b\b\b\b\b\b\b\b\b\b\b\b\b\b\b\b\b\b\b\b\b\b\b\b\b\b\b\b\b\b\b\b\b\b\b\b\b\b\b\b\b\b\b\b\b\b\b\b\b\b\b\b\b\b\b\b\b\b\b\b\b\b\b\b\b\b\b\b\b\b\b\b\b\b\b\b\b\b\b\b\b\b\b\b\b\b\b\b\b\b\b\b\b\b\b\b\b\b\b\b\b\b\b\b\b\b\b\b\b\b\b\b\b\b\b\b\b\b\b\b\b\b\b\b\b\b\b\b\b\b\b\b\b\b\b\b\b\b\b\b\b\b\b\b\b\b\b\b\b\b\b\b\b\b\b\b\b\b\b\b\b\b\b\b\b\b\b\b\b\b\b\b\b\b\b\b\b\b\b\b\b\b\b\b\b\b\b\b\b\b\b\b\b\b\b\b\b\b\b\b\b\b\b\b\b\b\b\b\b\b\b\b\b\b\b\b\b\b\b\b\b\b\b\b\b\b\b\b\b\b\b\b\b\b\b\b\b\b\b\b\b\b\b\b\b\b\b\b\b\b\b\b\b\b\b\b\b\b\b\b\b\b\b\b\b\b\b\b\b\b\b\b\b\b\b\b\b\b\b\b\b\b\b\b\b\b\b\b\b\b\b\b\b\b\b\b\b\b\b\b\b\b\b\b\b\b\b\b\b\b\b\b\b\b\b\b\b\b\b\b\b\b\b\b\b\b\b\b\b\b\b\b\b\b\b\b\b\b\b\b\b\b\b\b\b\b\b\b\b\b\b\b\b\b\b\b\b\b\b\b\b\b\b\b\b\b\b\b\b\b\b\b\b\b\b\b\b\b\b\b\b\b\b\b\b\b\b\b\b\b\b\b\b\b\b\b\b\b\b\b\b\b\b\b\b\b\b\b\b\b\b\b\b\b\b\b\b\b\b\b\b\b\b\b\b\b\b\b\b\b\b\b\b\b\b\b\b\b\b\b\b\b\b\b\b\b\b\b\b\b\b\b\b\b\b\b\b\b\b\b\b\b\b\b\b\b\b\b\b\b\b\b\b\b\b\b\b\b\b\b\b\b\b\b\b\b\b\b\b\b\b\b\b\b\b\b\b\b\b\b\b\b\b\b\b\b\b\b\b\b\b\b\b\b\b\b\b\b\b\b\b\b\b\b\b\b\b\b\b\b\b\b\b\b\b\b\b\b\b\b\b\b\b\b\b\b\b\b\b\b\b\b\b\b\b\b\b\b\b\b\b\b\b\b\b\b\b\b\b\b\b\b\b\b\b\b\b\b\b\b\b\b\b\b\b\b\b\b\b\b\b\b\b\b\b\b\b\b\b\b\b\b\b\b\b\b\b\b\b\b\b\b\b\b\b\b\b\b\b\b\b\b\b\b\b\b\b\b\b\b\b\b\b\b\b\b\b\b\b\b\b\b\b\b\b\b\b\b\b\b\b\b\b\b\b\b\b\b\b\b\b\b\b\b\b\b\b\b\b\b\b\b\b\b\b\b\b\b\b\b\b\b\b\b\b\b\b\b\b\b\b\b\b\b\b\b\b\b\b\b\b\b\b\b\b\b\b\b\b\b\b\b\b\b\b\b\b\b\b\b\b\b\b\b\b\b\b\b\b\b\b\b\b\b\b\b\b\b\b\b\b\b\b\b\b\b\b\b\b\b\b\b\b\b\b\b\b\b\b\b\b\b\b\b\b\b\b\b\b\b\b\b\b\b\b\b\b\b\b\b\b\b\b\b\b\b\b\b\b\b\b\b\b\b\b\b\b\b\b\b\b\b\b\b\b\b\b\b\b\b\b\b\b\b\b\b\b\b\b\b\b\b\b\b\b\b\b\b\b\b\b\b\b\b\b\b\b\b\b\b\b\b\b\b\b\b\b\b\b\b\b\b\b\b\b\b\b\b\b\b\b\b\b\b\b\b\b\b\b\b\b\b\b\b\b\b\b\b\b\b\b\b\b\b\b\b\b\b\b\b\b\b\b\b\b\b\b\b\b\b\b\b\b\b\b\b\b\b\b\b\b\b\b\b\b\b\b\b\b\b\b\b\b\b\b\b\b\b\b\b\b\b\b\b\b\b\b\b\b\b\b\b\b\b\b\b\b\b\b\b\b\b\b\b\b\b\b\b\b\b\b\b\b\b\b\b\b\b\b\b\b\b\b\b\b\b\b\b\b\b\b\b\b\b\b\b\b\b\b\b\b\b\b\b\b\b\b\b\b\b\b\b\b\b\b\b\b\b\b\b\b\b\b\b\b\b\b\b\b\b\b\b\b\b\b\b\b\b\b\b\b\b\b\b\b\b\b\b\b\b\b\b\b\b\b\b\b\b\b\b\b\b\b\b\b\b\b\b\b\b\b\b\b\b\b\b\b\b\b\b\b\b\b\b\b\b\b\b\b\b\b\b\b\b\b\b\b\b\b\b\b\b\b\b\b\b\b\b\b\b\b\b\b\b\b\b\b\b\b\b\b\b\b\b\b\b\b\b\b\b\b\b\b\b\b\b\b\b\b\b\b\b\b\b\b\b\b\b\b\b\b\b\b\b\b\b\b\b\b\b\b\b\b\b\b\b\b\b\b\b\b\b\b\b\b\b\b\b\b\b\b\b\b\b\b\b\b\b\b\b\b\b\b\b\b\b\b\b\b\b\b\b\b\b\b\b\b\b\b\b\b\b\b\b\b\b\b\b\b\b\b\b\b\b\b\b\b\b\b\b\b\b\b\b\b\b\b\b\b\b\b\b\b\b\b\b\b\b\b\b\b\b\b\b\b\b\b\b\b\b\b\b\b\b\b\b\b\b\b\b\b\b\b\b\b\b\b\b\b\b\b\b\b\b\b\b\b\b\b\b\b\b\b\b\b\b\b\b\b\b\b\b\b\b\b\b\b\b\b\b\b\b\b\b\b\b\b\n",
            "Epoch 3/10\n",
            "720/720 [==============================] - 5s 6ms/step - loss: 0.6933 - acc: 0.5222 - val_loss: 0.6932 - val_acc: 0.5278\b\b\b\b\b\b\b\b\b\b\b\b\b\b\b\b\b\b\b\b\b\b\b\b\b\b\b\b\b\b\b\b\b\b\b\b\b\b\b\b\b\b\b\b\b\b\b\b\b\b\b\b\b\b\b\b\b\b\b\b\b\b\b\b\b\b\b\b\b\b\b\b\b\b\b\b\b\b\b\b\b\b\b\b\b\b\b\b\b\b\b\b\b\b\b\b\b\b\b\b\b\b\b\b\b\b\b\b\b\b\b\b\b\b\b\b\b\b\b\b\b\b\b\b\b\b\b\b\b\b\b\b\b\b\b\b\b\b\b\b\b\b\b\b\b\b\b\b\b\b\b\b\b\b\b\b\b\b\b\b\b\b\b\b\b\b\b\b\b\b\b\b\b\b\b\b\b\b\b\b\b\b\b\b\b\b\b\b\b\b\b\b\b\b\b\b\b\b\b\b\b\b\b\b\b\b\b\b\b\b\b\b\b\b\b\b\b\b\b\b\b\b\b\b\b\b\b\b\b\b\b\b\b\b\b\b\b\b\b\b\b\b\b\b\b\b\b\b\b\b\b\b\b\b\b\b\b\b\b\b\b\b\b\b\b\b\b\b\b\b\b\b\b\b\b\b\b\b\b\b\b\b\b\b\b\b\b\b\b\b\b\b\b\b\b\b\b\b\b\b\b\b\b\b\b\b\b\b\b\b\b\b\b\b\b\b\b\b\b\b\b\b\b\b\b\b\b\b\b\b\b\b\b\b\b\b\b\b\b\b\b\b\b\b\b\b\b\b\b\b\b\b\b\b\b\b\b\b\b\b\b\b\b\b\b\b\b\b\b\b\b\b\b\b\b\b\b\b\b\b\b\b\b\b\b\b\b\b\b\b\b\b\b\b\b\b\b\b\b\b\b\b\b\b\b\b\b\b\b\b\b\b\b\b\b\b\b\b\b\b\b\b\b\b\b\b\b\b\b\b\b\b\b\b\b\b\b\b\b\b\b\b\b\b\b\b\b\b\b\b\b\b\b\b\b\b\b\b\b\b\b\b\b\b\b\b\b\b\b\b\b\b\b\b\b\b\b\b\b\b\b\b\b\b\b\b\b\b\b\b\b\b\b\b\b\b\b\b\b\b\b\b\b\b\b\b\b\b\b\b\b\b\b\b\b\b\b\b\b\b\b\b\b\b\b\b\b\b\b\b\b\b\b\b\b\b\b\b\b\b\b\b\b\b\b\b\b\b\b\b\b\b\b\b\b\b\b\b\b\b\b\b\b\b\b\b\b\b\b\b\b\b\b\b\b\b\b\b\b\b\b\b\b\b\b\b\b\b\b\b\b\b\b\b\b\b\b\b\b\b\b\b\b\b\b\b\b\b\b\b\b\b\b\b\b\b\b\b\b\b\b\b\b\b\b\b\b\b\b\b\b\b\b\b\b\b\b\b\b\b\b\b\b\b\b\b\b\b\b\b\b\b\b\b\b\b\b\b\b\b\b\b\b\b\b\b\b\b\b\b\b\b\b\b\b\b\b\b\b\b\b\b\b\b\b\b\b\b\b\b\b\b\b\b\b\b\b\b\b\b\b\b\b\b\b\b\b\b\b\b\b\b\b\b\b\b\b\b\b\b\b\b\b\b\b\b\b\b\b\b\b\b\b\b\b\b\b\b\b\b\b\b\b\b\b\b\b\b\b\b\b\b\b\b\b\b\b\b\b\b\b\b\b\b\b\b\b\b\b\b\b\b\b\b\b\b\b\b\b\b\b\b\b\b\b\b\b\b\b\b\b\b\b\b\b\b\b\b\b\b\b\b\b\b\b\b\b\b\b\b\b\b\b\b\b\b\b\b\b\b\b\b\b\b\b\b\b\b\b\b\b\b\b\b\b\b\b\b\b\b\b\b\b\b\b\b\b\b\b\b\b\b\b\b\b\b\b\b\b\b\b\b\b\b\b\b\b\b\b\b\b\b\b\b\b\b\b\b\b\b\b\b\b\b\b\b\b\b\b\b\b\b\b\b\b\b\b\b\b\b\b\b\b\b\b\b\b\b\b\b\b\b\b\b\b\b\b\b\b\b\b\b\b\b\b\b\b\b\b\b\b\b\b\b\b\b\b\b\b\b\b\b\b\b\b\b\b\b\b\b\b\b\b\b\b\b\b\b\b\b\b\b\b\b\b\b\b\b\b\b\b\b\b\b\b\b\b\b\b\b\b\b\b\b\b\b\b\b\b\b\b\b\b\b\b\b\b\b\b\b\b\b\b\b\b\b\b\b\b\b\b\b\b\b\b\b\b\b\b\b\b\b\b\b\b\b\b\b\b\b\b\b\b\b\b\b\b\b\b\b\b\b\b\b\b\b\b\b\b\b\b\b\b\b\b\b\b\b\b\b\b\b\b\b\b\b\b\b\b\b\b\b\b\b\b\b\b\b\b\b\b\b\b\b\b\b\b\b\b\b\b\b\b\b\b\b\b\b\b\b\b\b\b\b\b\b\b\b\b\b\b\b\b\b\b\b\b\b\b\b\b\b\b\b\b\b\b\b\b\b\b\b\b\b\b\b\b\b\b\b\b\b\b\b\b\b\b\b\b\b\b\b\b\b\b\b\b\b\b\b\b\b\b\b\b\b\b\b\b\b\b\b\b\b\b\b\b\b\b\b\b\b\b\b\b\b\b\b\b\b\b\b\b\b\b\b\b\b\b\b\b\b\b\b\b\b\b\b\b\b\b\b\b\b\b\b\b\b\b\b\b\b\b\b\b\b\b\b\b\b\b\b\b\b\b\b\b\b\b\b\b\b\b\b\b\b\b\b\b\b\b\b\b\b\b\b\b\b\b\b\b\b\b\b\b\b\b\b\b\b\b\b\b\b\b\b\b\b\b\b\b\b\b\b\b\b\b\b\b\b\b\b\b\b\b\b\b\b\b\b\b\b\b\b\b\b\b\b\b\b\b\b\b\b\b\b\b\b\b\b\b\b\b\b\b\b\b\b\b\b\b\b\b\b\b\b\b\b\b\b\b\b\b\b\b\b\b\b\b\b\b\b\b\b\b\b\b\b\b\b\b\b\b\b\b\b\b\b\b\b\b\b\b\b\b\b\b\b\b\b\b\b\b\b\b\b\b\b\b\b\b\b\b\b\b\b\b\b\b\b\b\b\b\b\b\b\b\b\b\b\b\b\b\b\b\b\b\b\b\b\b\b\b\b\b\b\b\b\b\b\b\b\b\b\b\b\b\b\b\b\b\b\b\b\b\b\b\b\b\b\b\b\b\b\b\b\b\b\b\b\b\b\b\b\b\b\b\b\b\b\b\b\b\b\b\b\b\b\b\b\b\b\b\b\b\b\b\b\b\b\b\b\b\b\b\b\b\b\b\b\b\b\b\b\b\b\b\b\b\b\b\b\b\b\b\b\b\b\b\b\b\b\b\b\b\b\b\b\b\b\b\b\b\b\b\b\b\b\b\b\b\b\b\b\b\b\b\b\b\b\b\b\b\b\b\b\b\b\b\b\b\b\b\b\b\b\b\b\b\b\b\b\b\b\b\b\b\b\b\b\b\b\b\b\b\b\b\b\b\b\b\b\b\b\b\b\b\b\b\b\b\b\b\b\b\b\b\b\b\b\b\b\b\b\b\b\b\b\b\b\b\b\b\b\b\b\b\b\b\b\b\b\b\b\b\b\b\b\b\b\b\b\b\b\b\b\b\b\b\b\b\b\b\b\b\b\b\b\b\b\b\b\b\b\b\b\b\b\b\b\b\b\b\b\b\b\b\b\b\b\b\b\b\b\b\b\b\b\b\b\b\b\b\b\b\b\b\b\b\b\b\b\b\b\b\b\b\b\b\b\b\b\b\b\b\b\b\b\b\b\b\b\b\b\b\b\b\b\b\b\b\b\b\b\b\b\b\b\b\b\b\b\b\b\b\b\b\b\b\b\b\b\b\b\b\b\b\b\b\b\b\b\b\b\b\b\b\b\b\b\b\b\b\b\b\b\b\b\b\b\b\b\b\b\b\b\b\b\b\b\b\b\b\b\b\b\b\b\b\b\b\b\b\b\b\b\b\b\b\b\b\b\b\b\b\b\b\b\b\b\b\b\b\b\b\b\b\b\b\b\b\b\b\b\b\b\b\b\b\b\b\b\b\b\b\b\b\b\b\b\b\b\b\b\b\b\b\b\b\b\b\b\b\b\b\b\b\b\b\b\b\b\b\b\b\b\b\b\b\b\b\b\b\b\b\b\b\b\b\b\b\b\b\b\b\b\b\b\b\b\b\b\b\b\b\b\b\b\b\b\b\b\b\b\b\b\b\b\b\b\b\b\b\b\b\b\b\b\b\b\b\b\b\b\b\b\b\b\b\b\b\b\b\b\b\b\b\b\b\b\b\b\b\b\b\b\b\b\b\b\b\b\b\b\b\b\b\b\b\b\b\b\b\b\b\b\b\b\b\b\b\b\b\b\b\b\b\b\b\b\b\b\b\b\b\b\b\b\b\b\b\b\b\b\b\b\b\b\b\b\b\b\b\b\b\b\b\b\b\b\b\b\b\b\b\b\b\b\b\b\b\b\b\b\b\b\b\b\b\b\b\b\b\b\b\b\b\b\b\b\b\b\b\b\b\b\b\b\b\b\b\b\b\b\b\b\b\b\b\b\b\b\b\b\b\b\b\b\b\b\b\b\b\b\b\b\b\b\b\b\b\b\b\b\b\b\b\b\b\b\b\b\b\b\b\b\b\b\b\b\b\b\b\b\b\b\b\b\b\b\b\b\b\b\b\b\b\b\b\b\b\b\b\b\b\b\b\b\b\b\b\b\b\b\b\b\b\b\b\b\b\b\b\b\b\b\b\b\b\b\b\b\b\b\b\b\b\b\b\b\b\b\b\b\b\b\b\b\b\b\b\b\b\b\b\b\b\b\b\b\b\b\b\b\b\b\b\b\b\b\b\b\b\b\b\b\b\b\b\b\b\b\b\b\b\b\b\b\b\b\b\b\b\b\b\b\b\b\b\b\b\b\b\b\b\b\b\b\b\b\b\b\b\b\b\b\b\b\b\b\n"
          ],
          "name": "stdout"
        }
      ]
    },
    {
      "cell_type": "code",
      "metadata": {
        "collapsed": true,
        "id": "qDgc2XqShm1a",
        "colab_type": "code",
        "colab": {}
      },
      "source": [
        "def LSTM(neurons):\n",
        "    model = Sequential()\n",
        "    model.add(embedding_layer)\n",
        "    model.add(Bidirectional(LSTM(neurons)))\n",
        "    model.add(Dense(1,activation=\"sigmoid\")) # to jest nasz klasyfikator \n",
        "\n",
        "    model.compile(loss=\"binary_crossentropy\",\n",
        "                 optimizer=\"adam\",\n",
        "                 metrics=[\"accuracy\"])\n",
        "    early_stopping = EarlyStopping(patience=2,monitor=\"val_acc\", min_delta=1)\n",
        "\n",
        "    history = model.fit(x_train,y_train, epochs=10, verbose=False, validation_split=0.2, \n",
        "              batch_size = 24, \n",
        "              callbacks=[early_stopping])\n",
        "    a,b = model.evaluate(x_test,y_test, verbose=False)[0], model.evaluate(x_test,y_test, verbose=False)[1]\n",
        "    c,d = model.evaluate(x_train,y_train, verbose=False)[0], model.evaluate(x_train,y_train, verbose=False)[1]\n",
        "    row = [a,c,b,d] \n",
        "    rows4.append(row) "
      ],
      "execution_count": null,
      "outputs": []
    },
    {
      "cell_type": "code",
      "metadata": {
        "id": "_nC8a9H8hm1i",
        "colab_type": "code",
        "colab": {},
        "outputId": "d3441882-4921-43d3-c6e1-e70417429042"
      },
      "source": [
        "neurons =[10,20,50]\n",
        "for n in neurons:\n",
        " LSTM(n)"
      ],
      "execution_count": null,
      "outputs": [
        {
          "output_type": "execute_result",
          "data": {
            "text/html": [
              "<div>\n",
              "<style>\n",
              "    .dataframe thead tr:only-child th {\n",
              "        text-align: right;\n",
              "    }\n",
              "\n",
              "    .dataframe thead th {\n",
              "        text-align: left;\n",
              "    }\n",
              "\n",
              "    .dataframe tbody tr th {\n",
              "        vertical-align: top;\n",
              "    }\n",
              "</style>\n",
              "<table border=\"1\" class=\"dataframe\">\n",
              "  <thead>\n",
              "    <tr style=\"text-align: right;\">\n",
              "      <th></th>\n",
              "      <th>Accuracy Test</th>\n",
              "      <th>Accuracy Train</th>\n",
              "      <th>Loss Test</th>\n",
              "      <th>Loss Train</th>\n",
              "    </tr>\n",
              "  </thead>\n",
              "  <tbody>\n",
              "    <tr>\n",
              "      <th>0</th>\n",
              "      <td>0.46</td>\n",
              "      <td>0.512222</td>\n",
              "      <td>0.693724</td>\n",
              "      <td>0.692831</td>\n",
              "    </tr>\n",
              "  </tbody>\n",
              "</table>\n",
              "</div>"
            ],
            "text/plain": [
              "   Accuracy Test  Accuracy Train  Loss Test  Loss Train\n",
              "0           0.46        0.512222   0.693724    0.692831"
            ]
          },
          "metadata": {
            "tags": []
          },
          "execution_count": 11
        }
      ]
    },
    {
      "cell_type": "code",
      "metadata": {
        "collapsed": true,
        "id": "Aqccynpjhm1m",
        "colab_type": "code",
        "colab": {}
      },
      "source": [
        "quality4 = pd.DataFrame(rows4)\n",
        "quality4.columns = ['Loss Test', 'Loss Train','Accuracy Test','Accuracy Train']\n",
        "quality4['Model'] = ['LSTM(10)_cbow','LSTM(20)_cbow','LSTM(30)_cbow']\n",
        "quality4 = quality4.sort_values(by=['Accuracy Test'], ascending=False)"
      ],
      "execution_count": null,
      "outputs": []
    },
    {
      "cell_type": "code",
      "metadata": {
        "collapsed": true,
        "id": "5cyxJIWUhm1w",
        "colab_type": "code",
        "colab": {}
      },
      "source": [
        ""
      ],
      "execution_count": null,
      "outputs": []
    },
    {
      "cell_type": "markdown",
      "metadata": {
        "id": "JqiLk84bhm1_",
        "colab_type": "text"
      },
      "source": [
        "Using skip-grams model gives worse results than CBOS because not only there is low accuracy but also overfitting problem. "
      ]
    },
    {
      "cell_type": "markdown",
      "metadata": {
        "id": "gYwiuNTDhm2A",
        "colab_type": "text"
      },
      "source": [
        "## LSTM with Word2vec (pre-traind data)"
      ]
    },
    {
      "cell_type": "markdown",
      "metadata": {
        "id": "yB5zV9sWhm2E",
        "colab_type": "text"
      },
      "source": [
        "Last approach is the usage of pre-trained word vectors prepared on very large corpora of text data. In our case, Stanford pre-trained word vectors were used. "
      ]
    },
    {
      "cell_type": "code",
      "metadata": {
        "id": "DLcCFE2Dhm2F",
        "colab_type": "code",
        "colab": {}
      },
      "source": [
        "raw_embedding = load_embedding('glove.6B.200d.txt')\n",
        "embedding_vectors = get_weight_matrix(raw_embedding, tokenizer.word_index)\n",
        "embedding_layer = Embedding(vocab_size, 200, weights=[embedding_vectors], input_length=X.shape[1], trainable=False)"
      ],
      "execution_count": null,
      "outputs": []
    },
    {
      "cell_type": "code",
      "metadata": {
        "id": "jbwGk7Lzhm2M",
        "colab_type": "code",
        "colab": {},
        "outputId": "ff55c0d1-6154-4737-d099-775674fe7a8d"
      },
      "source": [
        "model = Sequential()\n",
        "model.add(embedding_layer)\n",
        "model.add(Bidirectional(LSTM(20)))\n",
        "model.add(Dense(1,activation=\"sigmoid\")) \n",
        "\n",
        "model.compile(loss=\"binary_crossentropy\",\n",
        "                 optimizer=\"adam\",\n",
        "                 metrics=[\"accuracy\"])\n",
        "early_stopping = EarlyStopping(patience=2,monitor=\"val_acc\", min_delta=1)\n",
        "\n",
        "history = model.fit(x_train,y_train, epochs=10, verbose=True, validation_split=0.2, \n",
        "              batch_size = 24, \n",
        "              callbacks=[early_stopping])\n",
        "a,b = model.evaluate(x_test,y_test, verbose=False)[0], model.evaluate(x_test,y_test, verbose=False)[1]\n",
        "c,d = model.evaluate(x_train,y_train, verbose=False)[0], model.evaluate(x_train,y_train, verbose=False)[1]"
      ],
      "execution_count": null,
      "outputs": [
        {
          "output_type": "stream",
          "text": [
            "Train on 720 samples, validate on 180 samples\n",
            "Epoch 1/10\n",
            "720/720 [==============================] - 20s 28ms/step - loss: 0.6722 - acc: 0.5806 - val_loss: 0.6589 - val_acc: 0.6278\b\b\b\b\b\b\b\b\b\b\b\b\b\b\b\b\b\b\b\b\b\b\b\b\b\b\b\b\b\b\b\b\b\b\b\b\b\b\b\b\b\b\b\b\b\b\b\b\b\b\b\b\b\b\b\b\b\b\b\b\b\b\b\b\b\b\b\b\b\b\b\b\b\b\b\b\b\b\b\b\b\b\b\b\b\b\b\b\b\b\b\b\b\b\b\b\b\b\b\b\b\b\b\b\b\b\b\b\b\b\b\b\b\b\b\b\b\b\b\b\b\b\b\b\b\b\b\b\b\b\b\b\b\b\b\b\b\b\b\b\b\b\b\b\b\b\b\b\b\b\b\b\b\b\b\b\b\b\b\b\b\b\b\b\b\b\b\b\b\b\b\b\b\b\b\b\b\b\b\b\b\b\b\b\b\b\b\b\b\b\b\b\b\b\b\b\b\b\b\b\b\b\b\b\b\b\b\b\b\b\b\b\b\b\b\b\b\b\b\b\b\b\b\b\b\b\b\b\b\b\b\b\b\b\b\b\b\b\b\b\b\b\b\b\b\b\b\b\b\b\b\b\b\b\b\b\b\b\b\b\b\b\b\b\b\b\b\b\b\b\b\b\b\b\b\b\b\b\b\b\b\b\b\b\b\b\b\b\b\b\b\b\b\b\b\b\b\b\b\b\b\b\b\b\b\b\b\b\b\b\b\b\b\b\b\b\b\b\b\b\b\b\b\b\b\b\b\b\b\b\b\b\b\b\b\b\b\b\b\b\b\b\b\b\b\b\b\b\b\b\b\b\b\b\b\b\b\b\b\b\b\b\b\b\b\b\b\b\b\b\b\b\b\b\b\b\b\b\b\b\b\b\b\b\b\b\b\b\b\b\b\b\b\b\b\b\b\b\b\b\b\b\b\b\b\b\b\b\b\b\b\b\b\b\b\b\b\b\b\b\b\b\b\b\b\b\b\b\b\b\b\b\b\b\b\b\b\b\b\b\b\b\b\b\b\b\b\b\b\b\b\b\b\b\b\b\b\b\b\b\b\b\b\b\b\b\b\b\b\b\b\b\b\b\b\b\b\b\b\b\b\b\b\b\b\b\b\b\b\b\b\b\b\b\b\b\b\b\b\b\b\b\b\b\b\b\b\b\b\b\b\b\b\b\b\b\b\b\b\b\b\b\b\b\b\b\b\b\b\b\b\b\b\b\b\b\b\b\b\b\b\b\b\b\b\b\b\b\b\b\b\b\b\b\b\b\b\b\b\b\b\b\b\b\b\b\b\b\b\b\b\b\b\b\b\b\b\b\b\b\b\b\b\b\b\b\b\b\b\b\b\b\b\b\b\b\b\b\b\b\b\b\b\b\b\b\b\b\b\b\b\b\b\b\b\b\b\b\b\b\b\b\b\b\b\b\b\b\b\b\b\b\b\b\b\b\b\b\b\b\b\b\b\b\b\b\b\b\b\b\b\b\b\b\b\b\b\b\b\b\b\b\b\b\b\b\b\b\b\b\b\b\b\b\b\b\b\b\b\b\b\b\b\b\b\b\b\b\b\b\b\b\b\b\b\b\b\b\b\b\b\b\b\b\b\b\b\b\b\b\b\b\b\b\b\b\b\b\b\b\b\b\b\b\b\b\b\b\b\b\b\b\b\b\b\b\b\b\b\b\b\b\b\b\b\b\b\b\b\b\b\b\b\b\b\b\b\b\b\b\b\b\b\b\b\b\b\b\b\b\b\b\b\b\b\b\b\b\b\b\b\b\b\b\b\b\b\b\b\b\b\b\b\b\b\b\b\b\b\b\b\b\b\b\b\b\b\b\b\b\b\b\b\b\b\b\b\b\b\b\b\b\b\b\b\b\b\b\b\b\b\b\b\b\b\b\b\b\b\b\b\b\b\b\b\b\b\b\b\b\b\b\b\b\b\b\b\b\b\b\b\b\b\b\b\b\b\b\b\b\b\b\b\b\b\b\b\b\b\b\b\b\b\b\b\b\b\b\b\b\b\b\b\b\b\b\b\b\b\b\b\b\b\b\b\b\b\b\b\b\b\b\b\b\b\b\b\b\b\b\b\b\b\b\b\b\b\b\b\b\b\b\b\b\b\b\b\b\b\b\b\b\b\b\b\b\b\b\b\b\b\b\b\b\b\b\b\b\b\b\b\b\b\b\b\b\b\b\b\b\b\b\b\b\b\b\b\b\b\b\b\b\b\b\b\b\b\b\b\b\b\b\b\b\b\b\b\b\b\b\b\b\b\b\b\b\b\b\b\b\b\b\b\b\b\b\b\b\b\b\b\b\b\b\b\b\b\b\b\b\b\b\b\b\b\b\b\b\b\b\b\b\b\b\b\b\b\b\b\b\b\b\b\b\b\b\b\b\b\b\b\b\b\b\b\b\b\b\b\b\b\b\b\b\b\b\b\b\b\b\b\b\b\b\b\b\b\b\b\b\b\b\b\b\b\b\b\b\b\b\b\b\b\b\b\b\b\b\b\b\b\b\b\b\b\b\b\b\b\b\b\b\b\b\b\b\b\b\b\b\b\b\b\b\b\b\b\b\b\b\b\b\b\b\b\b\b\b\b\b\b\b\b\b\b\b\b\b\b\b\b\b\b\b\b\b\b\b\b\b\b\b\b\b\b\b\b\b\b\b\b\b\b\b\b\b\b\b\b\b\b\b\b\b\b\b\b\b\b\b\b\b\b\b\b\b\b\b\b\b\b\b\b\b\b\b\b\b\b\b\b\b\b\b\b\b\b\b\b\b\b\b\b\b\b\b\b\b\b\b\b\b\b\b\b\b\b\b\b\b\b\b\b\b\b\b\b\b\b\b\b\b\b\b\b\b\b\b\b\b\b\b\b\b\b\b\b\b\b\b\b\b\b\b\b\b\b\b\b\b\b\b\b\b\b\b\b\b\b\b\b\b\b\b\b\b\b\b\b\b\b\b\b\b\b\b\b\b\b\b\b\b\b\b\b\b\b\b\b\b\b\b\b\b\b\b\b\b\b\b\b\b\b\b\b\b\b\b\b\b\b\b\b\b\b\b\b\b\b\b\b\b\b\b\b\b\b\b\b\b\b\b\b\b\b\b\b\b\b\b\b\b\b\b\b\b\b\b\b\b\b\b\b\b\b\b\b\b\b\b\b\b\b\b\b\b\b\b\b\b\b\b\b\b\b\b\b\b\b\b\b\b\b\b\b\b\b\b\b\b\b\b\b\b\b\b\b\b\b\b\b\b\b\b\b\b\b\b\b\b\b\b\b\b\b\b\b\b\b\b\b\b\b\b\b\b\b\b\b\b\b\b\b\b\b\b\b\b\b\b\b\b\b\b\b\b\b\b\b\b\b\b\b\b\b\b\b\b\b\b\b\b\b\b\b\b\b\b\b\b\b\b\b\b\b\b\b\b\b\b\b\b\b\b\b\b\b\b\b\b\b\b\b\b\b\b\b\b\b\b\b\b\b\b\b\b\b\b\b\b\b\b\b\b\b\b\b\b\b\b\b\b\b\b\b\b\b\b\b\b\b\b\b\b\b\b\b\b\b\b\b\b\b\b\b\b\b\b\b\b\b\b\b\b\b\b\b\b\b\b\b\b\b\b\b\b\b\b\b\b\b\b\b\b\b\b\b\b\b\b\b\b\b\b\b\b\b\b\b\b\b\b\b\b\b\b\b\b\b\b\b\b\b\b\b\b\b\b\b\b\b\b\b\b\b\b\b\b\b\b\b\b\b\b\b\b\b\b\b\b\b\b\b\b\b\b\b\b\b\b\b\b\b\b\b\b\b\b\b\b\b\b\b\b\b\b\b\b\b\b\b\b\b\b\b\b\b\b\b\b\b\b\b\b\b\b\b\b\b\b\b\b\b\b\b\b\b\b\b\b\b\b\b\b\b\b\b\b\b\b\b\b\b\b\b\b\b\b\b\b\b\b\b\b\b\b\b\b\b\b\b\b\b\b\b\b\b\b\b\b\b\b\b\b\b\b\b\b\b\b\b\b\b\b\b\b\b\b\b\b\b\b\b\b\b\b\b\b\b\b\b\b\b\b\b\b\b\b\b\b\b\b\b\b\b\b\b\b\b\b\b\b\b\b\b\b\b\b\b\b\b\b\b\b\b\b\b\b\b\b\b\b\b\b\b\b\b\b\b\b\b\b\b\b\b\b\b\b\b\b\b\b\b\b\b\b\b\b\b\b\b\b\b\b\b\b\b\b\b\b\b\b\b\b\b\b\b\b\b\b\b\b\b\b\b\b\b\b\b\b\b\b\b\b\b\b\b\b\b\b\b\b\b\b\b\b\b\b\b\b\b\b\b\b\b\b\b\b\b\b\b\b\b\b\b\b\b\b\b\b\b\b\b\b\b\b\b\b\b\b\b\b\b\b\b\b\b\b\b\b\b\b\b\b\b\b\b\b\b\b\b\b\b\b\b\b\b\b\b\b\b\b\b\b\b\b\b\b\b\b\b\b\b\b\b\b\b\b\b\b\b\b\b\b\b\b\b\b\b\b\b\b\b\b\b\b\b\b\b\b\b\b\b\b\b\b\b\b\b\b\b\b\b\b\b\b\b\b\b\b\b\b\b\b\b\b\b\b\b\b\b\b\b\b\b\b\b\b\b\b\b\b\b\b\b\b\b\b\b\b\b\b\b\b\b\b\b\b\b\b\b\b\b\b\b\b\b\b\b\b\b\b\b\b\b\b\b\b\b\b\b\b\b\b\b\b\b\b\b\b\b\b\b\b\b\b\b\b\b\b\b\b\b\b\b\b\b\b\b\b\b\b\b\b\b\b\b\b\b\b\b\b\b\b\b\b\b\b\b\b\b\b\b\b\b\b\b\b\b\b\b\b\b\b\b\b\b\b\b\b\b\b\b\b\b\b\b\b\b\b\b\b\b\b\b\b\b\b\b\b\b\b\b\b\b\b\b\b\b\b\b\b\b\b\b\b\b\b\b\b\b\b\b\b\b\b\b\b\b\b\b\b\b\b\b\b\b\b\b\b\b\b\b\b\b\b\b\b\b\b\b\b\b\b\b\b\b\b\b\b\b\b\b\b\b\b\b\b\b\b\b\b\b\b\b\b\b\b\b\b\b\b\b\n",
            "Epoch 2/10\n",
            "720/720 [==============================] - 8s 11ms/step - loss: 0.5888 - acc: 0.7431 - val_loss: 0.5771 - val_acc: 0.7500\b\b\b\b\b\b\b\b\b\b\b\b\b\b\b\b\b\b\b\b\b\b\b\b\b\b\b\b\b\b\b\b\b\b\b\b\b\b\b\b\b\b\b\b\b\b\b\b\b\b\b\b\b\b\b\b\b\b\b\b\b\b\b\b\b\b\b\b\b\b\b\b\b\b\b\b\b\b\b\b\b\b\b\b\b\b\b\b\b\b\b\b\b\b\b\b\b\b\b\b\b\b\b\b\b\b\b\b\b\b\b\b\b\b\b\b\b\b\b\b\b\b\b\b\b\b\b\b\b\b\b\b\b\b\b\b\b\b\b\b\b\b\b\b\b\b\b\b\b\b\b\b\b\b\b\b\b\b\b\b\b\b\b\b\b\b\b\b\b\b\b\b\b\b\b\b\b\b\b\b\b\b\b\b\b\b\b\b\b\b\b\b\b\b\b\b\b\b\b\b\b\b\b\b\b\b\b\b\b\b\b\b\b\b\b\b\b\b\b\b\b\b\b\b\b\b\b\b\b\b\b\b\b\b\b\b\b\b\b\b\b\b\b\b\b\b\b\b\b\b\b\b\b\b\b\b\b\b\b\b\b\b\b\b\b\b\b\b\b\b\b\b\b\b\b\b\b\b\b\b\b\b\b\b\b\b\b\b\b\b\b\b\b\b\b\b\b\b\b\b\b\b\b\b\b\b\b\b\b\b\b\b\b\b\b\b\b\b\b\b\b\b\b\b\b\b\b\b\b\b\b\b\b\b\b\b\b\b\b\b\b\b\b\b\b\b\b\b\b\b\b\b\b\b\b\b\b\b\b\b\b\b\b\b\b\b\b\b\b\b\b\b\b\b\b\b\b\b\b\b\b\b\b\b\b\b\b\b\b\b\b\b\b\b\b\b\b\b\b\b\b\b\b\b\b\b\b\b\b\b\b\b\b\b\b\b\b\b\b\b\b\b\b\b\b\b\b\b\b\b\b\b\b\b\b\b\b\b\b\b\b\b\b\b\b\b\b\b\b\b\b\b\b\b\b\b\b\b\b\b\b\b\b\b\b\b\b\b\b\b\b\b\b\b\b\b\b\b\b\b\b\b\b\b\b\b\b\b\b\b\b\b\b\b\b\b\b\b\b\b\b\b\b\b\b\b\b\b\b\b\b\b\b\b\b\b\b\b\b\b\b\b\b\b\b\b\b\b\b\b\b\b\b\b\b\b\b\b\b\b\b\b\b\b\b\b\b\b\b\b\b\b\b\b\b\b\b\b\b\b\b\b\b\b\b\b\b\b\b\b\b\b\b\b\b\b\b\b\b\b\b\b\b\b\b\b\b\b\b\b\b\b\b\b\b\b\b\b\b\b\b\b\b\b\b\b\b\b\b\b\b\b\b\b\b\b\b\b\b\b\b\b\b\b\b\b\b\b\b\b\b\b\b\b\b\b\b\b\b\b\b\b\b\b\b\b\b\b\b\b\b\b\b\b\b\b\b\b\b\b\b\b\b\b\b\b\b\b\b\b\b\b\b\b\b\b\b\b\b\b\b\b\b\b\b\b\b\b\b\b\b\b\b\b\b\b\b\b\b\b\b\b\b\b\b\b\b\b\b\b\b\b\b\b\b\b\b\b\b\b\b\b\b\b\b\b\b\b\b\b\b\b\b\b\b\b\b\b\b\b\b\b\b\b\b\b\b\b\b\b\b\b\b\b\b\b\b\b\b\b\b\b\b\b\b\b\b\b\b\b\b\b\b\b\b\b\b\b\b\b\b\b\b\b\b\b\b\b\b\b\b\b\b\b\b\b\b\b\b\b\b\b\b\b\b\b\b\b\b\b\b\b\b\b\b\b\b\b\b\b\b\b\b\b\b\b\b\b\b\b\b\b\b\b\b\b\b\b\b\b\b\b\b\b\b\b\b\b\b\b\b\b\b\b\b\b\b\b\b\b\b\b\b\b\b\b\b\b\b\b\b\b\b\b\b\b\b\b\b\b\b\b\b\b\b\b\b\b\b\b\b\b\b\b\b\b\b\b\b\b\b\b\b\b\b\b\b\b\b\b\b\b\b\b\b\b\b\b\b\b\b\b\b\b\b\b\b\b\b\b\b\b\b\b\b\b\b\b\b\b\b\b\b\b\b\b\b\b\b\b\b\b\b\b\b\b\b\b\b\b\b\b\b\b\b\b\b\b\b\b\b\b\b\b\b\b\b\b\b\b\b\b\b\b\b\b\b\b\b\b\b\b\b\b\b\b\b\b\b\b\b\b\b\b\b\b\b\b\b\b\b\b\b\b\b\b\b\b\b\b\b\b\b\b\b\b\b\b\b\b\b\b\b\b\b\b\b\b\b\b\b\b\b\b\b\b\b\b\b\b\b\b\b\b\b\b\b\b\b\b\b\b\b\b\b\b\b\b\b\b\b\b\b\b\b\b\b\b\b\b\b\b\b\b\b\b\b\b\b\b\b\b\b\b\b\b\b\b\b\b\b\b\b\b\b\b\b\b\b\b\b\b\b\b\b\b\b\b\b\b\b\b\b\b\b\b\b\b\b\b\b\b\b\b\b\b\b\b\b\b\b\b\b\b\b\b\b\b\b\b\b\b\b\b\b\b\b\b\b\b\b\b\b\b\b\b\b\b\b\b\b\b\b\b\b\b\b\b\b\b\b\b\b\b\b\b\b\b\b\b\b\b\b\b\b\b\b\b\b\b\b\b\b\b\b\b\b\b\b\b\b\b\b\b\b\b\b\b\b\b\b\b\b\b\b\b\b\b\b\b\b\b\b\b\b\b\b\b\b\b\b\b\b\b\b\b\b\b\b\b\b\b\b\b\b\b\b\b\b\b\b\b\b\b\b\b\b\b\b\b\b\b\b\b\b\b\b\b\b\b\b\b\b\b\b\b\b\b\b\b\b\b\b\b\b\b\b\b\b\b\b\b\b\b\b\b\b\b\b\b\b\b\b\b\b\b\b\b\b\b\b\b\b\b\b\b\b\b\b\b\b\b\b\b\b\b\b\b\b\b\b\b\b\b\b\b\b\b\b\b\b\b\b\b\b\b\b\b\b\b\b\b\b\b\b\b\b\b\b\b\b\b\b\b\b\b\b\b\b\b\b\b\b\b\b\b\b\b\b\b\b\b\b\b\b\b\b\b\b\b\b\b\b\b\b\b\b\b\b\b\b\b\b\b\b\b\b\b\b\b\b\b\b\b\b\b\b\b\b\b\b\b\b\b\b\b\b\b\b\b\b\b\b\b\b\b\b\b\b\b\b\b\b\b\b\b\b\b\b\b\b\b\b\b\b\b\b\b\b\b\b\b\b\b\b\b\b\b\b\b\b\b\b\b\b\b\b\b\b\b\b\b\b\b\b\b\b\b\b\b\b\b\b\b\b\b\b\b\b\b\b\b\b\b\b\b\b\b\b\b\b\b\b\b\b\b\b\b\b\b\b\b\b\b\b\b\b\b\b\b\b\b\b\b\b\b\b\b\b\b\b\b\b\b\b\b\b\b\b\b\b\b\b\b\b\b\b\b\b\b\b\b\b\b\b\b\b\b\b\b\b\b\b\b\b\b\b\b\b\b\b\b\b\b\b\b\b\b\b\b\b\b\b\b\b\b\b\b\b\b\b\b\b\b\b\b\b\b\b\b\b\b\b\b\b\b\b\b\b\b\b\b\b\b\b\b\b\b\b\b\b\b\b\b\b\b\b\b\b\b\b\b\b\b\b\b\b\b\b\b\b\b\b\b\b\b\b\b\b\b\b\b\b\b\b\b\b\b\b\b\b\b\b\b\b\b\b\b\b\b\b\b\b\b\b\b\b\b\b\b\b\b\b\b\b\b\b\b\b\b\b\b\b\b\b\b\b\b\b\b\b\b\b\b\b\b\b\b\b\b\b\b\b\b\b\b\b\b\b\b\b\b\b\b\b\b\b\b\b\b\b\b\b\b\b\b\b\b\b\b\b\b\b\b\b\b\b\b\b\b\b\b\b\b\b\b\b\b\b\b\b\b\b\b\b\b\b\b\b\b\b\b\b\b\b\b\b\b\b\b\b\b\b\b\b\b\b\b\b\b\b\b\b\b\b\b\b\b\b\b\b\b\b\b\b\b\b\b\b\b\b\b\b\b\b\b\b\b\b\b\b\b\b\b\b\b\b\b\b\b\b\b\b\b\b\b\b\b\b\b\b\b\b\b\b\b\b\b\b\b\b\b\b\b\b\b\b\b\b\b\b\b\b\b\b\b\b\b\b\b\b\b\b\b\b\b\b\b\b\b\b\b\b\b\b\b\b\b\b\b\b\b\b\b\b\b\b\b\b\b\b\b\b\b\b\b\b\b\b\b\b\b\b\b\b\b\b\b\b\b\b\b\b\b\b\b\b\b\b\b\b\b\b\b\b\b\b\b\b\b\b\b\b\b\b\b\b\b\b\b\b\b\b\b\b\b\b\b\b\b\b\b\b\b\b\b\b\b\b\b\b\b\b\b\b\b\b\b\b\b\b\b\b\b\b\b\b\b\b\b\b\b\b\b\b\b\b\b\b\b\b\b\b\b\b\b\b\b\b\b\b\b\b\b\b\b\b\b\b\b\b\b\b\b\b\b\b\b\b\b\b\b\b\b\b\b\b\b\b\b\b\b\b\b\b\b\b\b\b\b\b\b\b\b\b\b\b\b\b\b\b\b\b\b\b\b\b\b\b\b\b\b\b\b\b\b\b\b\b\b\b\b\b\b\b\b\b\b\b\b\b\b\b\b\b\b\b\b\b\b\b\b\b\b\b\b\b\b\b\b\b\b\b\b\b\b\b\b\b\b\b\b\b\b\b\b\b\b\b\b\b\b\b\b\b\b\b\b\b\b\b\b\b\b\b\b\b\b\b\b\b\b\b\b\b\b\b\b\b\b\b\b\b\b\b\b\b\b\b\b\b\b\b\b\b\b\b\b\b\b\b\b\b\b\b\b\b\b\b\b\b\b\b\b\b\b\b\b\b\b\b\b\b\b\b\b\b\b\b\b\b\b\b\b\b\b\b\b\b\b\b\b\b\b\b\b\b\b\b\n",
            "Epoch 3/10\n",
            "720/720 [==============================] - 8s 10ms/step - loss: 0.4707 - acc: 0.7972 - val_loss: 0.5345 - val_acc: 0.7500\b\b\b\b\b\b\b\b\b\b\b\b\b\b\b\b\b\b\b\b\b\b\b\b\b\b\b\b\b\b\b\b\b\b\b\b\b\b\b\b\b\b\b\b\b\b\b\b\b\b\b\b\b\b\b\b\b\b\b\b\b\b\b\b\b\b\b\b\b\b\b\b\b\b\b\b\b\b\b\b\b\b\b\b\b\b\b\b\b\b\b\b\b\b\b\b\b\b\b\b\b\b\b\b\b\b\b\b\b\b\b\b\b\b\b\b\b\b\b\b\b\b\b\b\b\b\b\b\b\b\b\b\b\b\b\b\b\b\b\b\b\b\b\b\b\b\b\b\b\b\b\b\b\b\b\b\b\b\b\b\b\b\b\b\b\b\b\b\b\b\b\b\b\b\b\b\b\b\b\b\b\b\b\b\b\b\b\b\b\b\b\b\b\b\b\b\b\b\b\b\b\b\b\b\b\b\b\b\b\b\b\b\b\b\b\b\b\b\b\b\b\b\b\b\b\b\b\b\b\b\b\b\b\b\b\b\b\b\b\b\b\b\b\b\b\b\b\b\b\b\b\b\b\b\b\b\b\b\b\b\b\b\b\b\b\b\b\b\b\b\b\b\b\b\b\b\b\b\b\b\b\b\b\b\b\b\b\b\b\b\b\b\b\b\b\b\b\b\b\b\b\b\b\b\b\b\b\b\b\b\b\b\b\b\b\b\b\b\b\b\b\b\b\b\b\b\b\b\b\b\b\b\b\b\b\b\b\b\b\b\b\b\b\b\b\b\b\b\b\b\b\b\b\b\b\b\b\b\b\b\b\b\b\b\b\b\b\b\b\b\b\b\b\b\b\b\b\b\b\b\b\b\b\b\b\b\b\b\b\b\b\b\b\b\b\b\b\b\b\b\b\b\b\b\b\b\b\b\b\b\b\b\b\b\b\b\b\b\b\b\b\b\b\b\b\b\b\b\b\b\b\b\b\b\b\b\b\b\b\b\b\b\b\b\b\b\b\b\b\b\b\b\b\b\b\b\b\b\b\b\b\b\b\b\b\b\b\b\b\b\b\b\b\b\b\b\b\b\b\b\b\b\b\b\b\b\b\b\b\b\b\b\b\b\b\b\b\b\b\b\b\b\b\b\b\b\b\b\b\b\b\b\b\b\b\b\b\b\b\b\b\b\b\b\b\b\b\b\b\b\b\b\b\b\b\b\b\b\b\b\b\b\b\b\b\b\b\b\b\b\b\b\b\b\b\b\b\b\b\b\b\b\b\b\b\b\b\b\b\b\b\b\b\b\b\b\b\b\b\b\b\b\b\b\b\b\b\b\b\b\b\b\b\b\b\b\b\b\b\b\b\b\b\b\b\b\b\b\b\b\b\b\b\b\b\b\b\b\b\b\b\b\b\b\b\b\b\b\b\b\b\b\b\b\b\b\b\b\b\b\b\b\b\b\b\b\b\b\b\b\b\b\b\b\b\b\b\b\b\b\b\b\b\b\b\b\b\b\b\b\b\b\b\b\b\b\b\b\b\b\b\b\b\b\b\b\b\b\b\b\b\b\b\b\b\b\b\b\b\b\b\b\b\b\b\b\b\b\b\b\b\b\b\b\b\b\b\b\b\b\b\b\b\b\b\b\b\b\b\b\b\b\b\b\b\b\b\b\b\b\b\b\b\b\b\b\b\b\b\b\b\b\b\b\b\b\b\b\b\b\b\b\b\b\b\b\b\b\b\b\b\b\b\b\b\b\b\b\b\b\b\b\b\b\b\b\b\b\b\b\b\b\b\b\b\b\b\b\b\b\b\b\b\b\b\b\b\b\b\b\b\b\b\b\b\b\b\b\b\b\b\b\b\b\b\b\b\b\b\b\b\b\b\b\b\b\b\b\b\b\b\b\b\b\b\b\b\b\b\b\b\b\b\b\b\b\b\b\b\b\b\b\b\b\b\b\b\b\b\b\b\b\b\b\b\b\b\b\b\b\b\b\b\b\b\b\b\b\b\b\b\b\b\b\b\b\b\b\b\b\b\b\b\b\b\b\b\b\b\b\b\b\b\b\b\b\b\b\b\b\b\b\b\b\b\b\b\b\b\b\b\b\b\b\b\b\b\b\b\b\b\b\b\b\b\b\b\b\b\b\b\b\b\b\b\b\b\b\b\b\b\b\b\b\b\b\b\b\b\b\b\b\b\b\b\b\b\b\b\b\b\b\b\b\b\b\b\b\b\b\b\b\b\b\b\b\b\b\b\b\b\b\b\b\b\b\b\b\b\b\b\b\b\b\b\b\b\b\b\b\b\b\b\b\b\b\b\b\b\b\b\b\b\b\b\b\b\b\b\b\b\b\b\b\b\b\b\b\b\b\b\b\b\b\b\b\b\b\b\b\b\b\b\b\b\b\b\b\b\b\b\b\b\b\b\b\b\b\b\b\b\b\b\b\b\b\b\b\b\b\b\b\b\b\b\b\b\b\b\b\b\b\b\b\b\b\b\b\b\b\b\b\b\b\b\b\b\b\b\b\b\b\b\b\b\b\b\b\b\b\b\b\b\b\b\b\b\b\b\b\b\b\b\b\b\b\b\b\b\b\b\b\b\b\b\b\b\b\b\b\b\b\b\b\b\b\b\b\b\b\b\b\b\b\b\b\b\b\b\b\b\b\b\b\b\b\b\b\b\b\b\b\b\b\b\b\b\b\b\b\b\b\b\b\b\b\b\b\b\b\b\b\b\b\b\b\b\b\b\b\b\b\b\b\b\b\b\b\b\b\b\b\b\b\b\b\b\b\b\b\b\b\b\b\b\b\b\b\b\b\b\b\b\b\b\b\b\b\b\b\b\b\b\b\b\b\b\b\b\b\b\b\b\b\b\b\b\b\b\b\b\b\b\b\b\b\b\b\b\b\b\b\b\b\b\b\b\b\b\b\b\b\b\b\b\b\b\b\b\b\b\b\b\b\b\b\b\b\b\b\b\b\b\b\b\b\b\b\b\b\b\b\b\b\b\b\b\b\b\b\b\b\b\b\b\b\b\b\b\b\b\b\b\b\b\b\b\b\b\b\b\b\b\b\b\b\b\b\b\b\b\b\b\b\b\b\b\b\b\b\b\b\b\b\b\b\b\b\b\b\b\b\b\b\b\b\b\b\b\b\b\b\b\b\b\b\b\b\b\b\b\b\b\b\b\b\b\b\b\b\b\b\b\b\b\b\b\b\b\b\b\b\b\b\b\b\b\b\b\b\b\b\b\b\b\b\b\b\b\b\b\b\b\b\b\b\b\b\b\b\b\b\b\b\b\b\b\b\b\b\b\b\b\b\b\b\b\b\b\b\b\b\b\b\b\b\b\b\b\b\b\b\b\b\b\b\b\b\b\b\b\b\b\b\b\b\b\b\b\b\b\b\b\b\b\b\b\b\b\b\b\b\b\b\b\b\b\b\b\b\b\b\b\b\b\b\b\b\b\b\b\b\b\b\b\b\b\b\b\b\b\b\b\b\b\b\b\b\b\b\b\b\b\b\b\b\b\b\b\b\b\b\b\b\b\b\b\b\b\b\b\b\b\b\b\b\b\b\b\b\b\b\b\b\b\b\b\b\b\b\b\b\b\b\b\b\b\b\b\b\b\b\b\b\b\b\b\b\b\b\b\b\b\b\b\b\b\b\b\b\b\b\b\b\b\b\b\b\b\b\b\b\b\b\b\b\b\b\b\b\b\b\b\b\b\b\b\b\b\b\b\b\b\b\b\b\b\b\b\b\b\b\b\b\b\b\b\b\b\b\b\b\b\b\b\b\b\b\b\b\b\b\b\b\b\b\b\b\b\b\b\b\b\b\b\b\b\b\b\b\b\b\b\b\b\b\b\b\b\b\b\b\b\b\b\b\b\b\b\b\b\b\b\b\b\b\b\b\b\b\b\b\b\b\b\b\b\b\b\b\b\b\b\b\b\b\b\b\b\b\b\b\b\b\b\b\b\b\b\b\b\b\b\b\b\b\b\b\b\b\b\b\b\b\b\b\b\b\b\b\b\b\b\b\b\b\b\b\b\b\b\b\b\b\b\b\b\b\b\b\b\b\b\b\b\b\b\b\b\b\b\b\b\b\b\b\b\b\b\b\b\b\b\b\b\b\b\b\b\b\b\b\b\b\b\b\b\b\b\b\b\b\b\b\b\b\b\b\b\b\b\b\b\b\b\b\b\b\b\b\b\b\b\b\b\b\b\b\b\b\b\b\b\b\b\b\b\b\b\b\b\b\b\b\b\b\b\b\b\b\b\b\b\b\b\b\b\b\b\b\b\b\b\b\b\b\b\b\b\b\b\b\b\b\b\b\b\b\b\b\b\b\b\b\b\b\b\b\b\b\b\b\b\b\b\b\b\b\b\b\b\b\b\b\b\b\b\b\b\b\b\b\b\b\b\b\b\b\b\b\b\b\b\b\b\b\b\b\b\b\b\b\b\b\b\b\b\b\b\b\b\b\b\b\b\b\b\b\b\b\b\b\b\b\b\b\b\b\b\b\b\b\b\b\b\b\b\b\b\b\b\b\b\b\b\b\b\b\b\b\b\b\b\b\b\b\b\b\b\b\b\b\b\b\b\b\b\b\b\b\b\b\b\b\b\b\b\b\b\b\b\b\b\b\b\b\b\b\b\b\b\b\b\b\b\b\b\b\b\b\b\b\b\b\b\b\b\b\b\b\b\b\b\b\b\b\b\b\b\b\b\b\b\b\b\b\b\b\b\b\b\b\b\b\b\b\b\b\b\b\b\b\b\b\b\b\b\b\b\b\b\b\b\b\b\b\b\b\b\b\b\b\b\b\b\b\b\b\b\b\b\b\b\b\b\b\b\b\b\b\b\b\b\b\b\b\b\b\b\b\b\b\b\b\b\b\b\b\b\b\b\b\b\b\b\b\b\b\b\b\b\b\b\b\b\b\b\b\b\b\b\b\b\b\b\b\b\b\b\b\b\b\b\b\b\b\b\b\b\b\b\b\b\b\b\b\b\b\b\b\b\b\b\b\b\b\b\b\b\b\b\b\b\b\b\b\b\b\b\n"
          ],
          "name": "stdout"
        }
      ]
    },
    {
      "cell_type": "code",
      "metadata": {
        "id": "8WVVpeNehm2V",
        "colab_type": "code",
        "colab": {},
        "outputId": "be4c95ab-d41a-49dc-eef6-b7103e877219"
      },
      "source": [
        "results3 = {'Loss Test':[a],'Loss Train':[c],'Accuracy Test':[b],'Accuracy Train':[d]}\n",
        "\n",
        "quality_t = pd.DataFrame.from_dict(results3)\n",
        "quality_t"
      ],
      "execution_count": null,
      "outputs": [
        {
          "output_type": "execute_result",
          "data": {
            "text/html": [
              "<div>\n",
              "<style>\n",
              "    .dataframe thead tr:only-child th {\n",
              "        text-align: right;\n",
              "    }\n",
              "\n",
              "    .dataframe thead th {\n",
              "        text-align: left;\n",
              "    }\n",
              "\n",
              "    .dataframe tbody tr th {\n",
              "        vertical-align: top;\n",
              "    }\n",
              "</style>\n",
              "<table border=\"1\" class=\"dataframe\">\n",
              "  <thead>\n",
              "    <tr style=\"text-align: right;\">\n",
              "      <th></th>\n",
              "      <th>Accuracy Test</th>\n",
              "      <th>Accuracy Train</th>\n",
              "      <th>Loss Test</th>\n",
              "      <th>Loss Train</th>\n",
              "    </tr>\n",
              "  </thead>\n",
              "  <tbody>\n",
              "    <tr>\n",
              "      <th>0</th>\n",
              "      <td>0.74</td>\n",
              "      <td>0.835556</td>\n",
              "      <td>0.56486</td>\n",
              "      <td>0.423737</td>\n",
              "    </tr>\n",
              "  </tbody>\n",
              "</table>\n",
              "</div>"
            ],
            "text/plain": [
              "   Accuracy Test  Accuracy Train  Loss Test  Loss Train\n",
              "0           0.74        0.835556    0.56486    0.423737"
            ]
          },
          "metadata": {
            "tags": []
          },
          "execution_count": 10
        }
      ]
    },
    {
      "cell_type": "markdown",
      "metadata": {
        "id": "vhma_vrNhm2d",
        "colab_type": "text"
      },
      "source": [
        "The last model has a quite satisfaction accuracy but it has overfitting problem."
      ]
    },
    {
      "cell_type": "code",
      "metadata": {
        "id": "jqnh8Fiuhm2e",
        "colab_type": "code",
        "colab": {}
      },
      "source": [
        ""
      ],
      "execution_count": null,
      "outputs": []
    }
  ]
}